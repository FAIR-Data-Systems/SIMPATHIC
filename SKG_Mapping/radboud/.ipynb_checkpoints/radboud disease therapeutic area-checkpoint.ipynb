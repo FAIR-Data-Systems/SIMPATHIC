{
 "cells": [
  {
   "cell_type": "code",
   "execution_count": 1,
   "id": "f43b7e59",
   "metadata": {},
   "outputs": [
    {
     "name": "stdout",
     "output_type": "stream",
     "text": [
      "/home/osboxes/CODE/SIMPATHIC/SKG_Mapping/radboud\n",
      "total 32\n",
      "drwxrwxr-x 2 osboxes osboxes 4096 May 19 10:28 mappings\n",
      "-rw-rw-r-- 1 osboxes osboxes  112 Feb 28 19:02 notes\n",
      "-rw-rw-r-- 1 osboxes osboxes 6827 May 19 10:30 radboud disease gene.ipynb\n",
      "-rw-rw-r-- 1 osboxes osboxes 6496 May 19 11:12 radboud disease therapeutic area.ipynb\n",
      "drwxrwxr-x 2 osboxes osboxes 4096 May 19 10:29 rawdata\n",
      "drwxrwxr-x 2 osboxes osboxes 4096 May 19 10:26 scripts to copy into Jupyter\n",
      "\"source\",\"source_type\",\"target\",\"target_type\"\n",
      "\"DOID_7551\",\"disease\",\"OTAR_0000017\",\"therapeutic_area\"\n",
      "\"DOID_7551\",\"disease\",\"EFO_0005741\",\"therapeutic_area\"\n",
      "\"DOID_7551\",\"disease\",\"EFO_0009690\",\"therapeutic_area\"\n",
      "\"HP_0000031\",\"disease\",\"EFO_0000651\",\"therapeutic_area\"\n",
      "\"HP_0000857\",\"disease\",\"EFO_0000651\",\"therapeutic_area\"\n",
      "\"HP_0000857\",\"disease\",\"MONDO_0024297\",\"therapeutic_area\"\n",
      "\"HP_0000857\",\"disease\",\"EFO_0001379\",\"therapeutic_area\"\n",
      "\"HP_0000857\",\"disease\",\"EFO_0009605\",\"therapeutic_area\"\n",
      "\"HP_0000857\",\"disease\",\"EFO_0010282\",\"therapeutic_area\"\n"
     ]
    }
   ],
   "source": [
    "puts `pwd`\n",
    "puts `ls -l`\n",
    "puts `head rawdata/disease-therapeuticarea.csv`"
   ]
  },
  {
   "cell_type": "code",
   "execution_count": 6,
   "id": "bea1c3be",
   "metadata": {},
   "outputs": [
    {
     "name": "stdout",
     "output_type": "stream",
     "text": [
      "/home/osboxes/CODE/SIMPATHIC/SKG_Mapping/radboud\n",
      "Targets\n",
      "DOID\n",
      "HP\n",
      "MONDO\n",
      "EFO\n",
      "OBI\n",
      "NCIT\n",
      "Orphanet\n",
      "OTAR\n"
     ]
    }
   ],
   "source": [
    "require 'csv'\n",
    "puts `pwd`\n",
    "\n",
    "targets = {}\n",
    "\n",
    "CSV.foreach('./rawdata/disease-therapeuticarea.csv', headers: true) do |row|\n",
    "  next if row.size < 3\n",
    "\n",
    "  source = row[0]\n",
    "  target = row[2] || ''\n",
    "\n",
    "  target = row[0].match(/([^_]+)/)[1]\n",
    "  targets[target] = 1\n",
    "\n",
    "end\n",
    "puts \"Targets\"\n",
    "puts targets.keys"
   ]
  },
  {
   "cell_type": "markdown",
   "id": "eeb1e71e",
   "metadata": {},
   "source": [
    "# Process file\n",
    "\n",
    "Need to process both the source and the target\n",
    "\n",
    "Source and target need pre-processing to make URLs that are correct for the metadata_functions routines.\n"
   ]
  },
  {
   "cell_type": "code",
   "execution_count": 7,
   "id": "07abb8ed",
   "metadata": {},
   "outputs": [
    {
     "name": "stderr",
     "output_type": "stream",
     "text": [
      "/home/osboxes/CODE/SIMPATHIC/SKG_Mapping/Lookups/ontologyservers/ncbo.rb:4: warning: already initialized constant PARAMS\n",
      "/home/osboxes/CODE/SIMPATHIC/SKG_Mapping/Lookups/ontologyservers/edam.rb:4: warning: previous definition of PARAMS was here\n",
      "Final URL list [\"https://api.disease-ontology.org/v1/terms/DOID_7551\"]\n",
      "\n",
      "processing https://api.disease-ontology.org/v1/terms/DOID_7551\n",
      "DOID\n",
      "term: gonorrhea\n",
      "DOID_7551, https://api.disease-ontology.org/v1/terms/DOID_7551, gonorrhea\n",
      "Final URL list [\"http://www.ebi.ac.uk/efo/OTAR_0000017\"]\n",
      "\n",
      "processing http://www.ebi.ac.uk/efo/OTAR_0000017\n",
      "just a URL\n",
      "term: OTAR_0000017\n",
      "OTAR_0000017, http://www.ebi.ac.uk/efo/OTAR_0000017, OTAR_0000017\n"
     ]
    },
    {
     "name": "stdout",
     "output_type": "stream",
     "text": [
      "radboudsource,sourceguid,sourcelabel,radboudtarget,targetguid,targetlabel\n",
      "DOID_7551,https://api.disease-ontology.org/v1/terms/DOID_7551,gonorrhea,OTAR_0000017,http://www.ebi.ac.uk/efo/OTAR_0000017,OTAR_0000017\n"
     ]
    }
   ],
   "source": [
    "require_relative '../Lookups/metadata_functions'\n",
    "require 'csv'\n",
    "\n",
    "# lookup = NCBO.new\n",
    "f = File.open('./mappings/disease-therapeuticarea-mappings.csv', 'w')\n",
    "e = File.open('./mappings/disease-therapeuticarea-errors.txt', 'w')\n",
    "f.sync = true # Ensure immediate writes\n",
    "e.sync = true # Ensure immediate writes\n",
    "f.write \"radboudsource,sourceguid,sourcelabel,radboudtarget,targetguid,targetlabel\\n\"\n",
    "\n",
    "seen = {}\n",
    "CSV.foreach('./rawdata/disease-therapeuticarea.csv', headers: true) do |row|\n",
    "  next if row.size < 3\n",
    "\n",
    "  # PROCESS SOURCE COLUMN #######################################\n",
    "  radboudsource = row[0]\n",
    "  ontology = radboudsource.match(/([^_]+)_/)[1]\n",
    "\n",
    "  if ontology == \"EFO\"\n",
    "    sourceurl = \"http://www.ebi.ac.uk/efo/#{radboudsource}\"\n",
    "  elsif ontology == \"OTAR\"\n",
    "    sourceurl = \"http://www.ebi.ac.uk/efo/#{radboudsource}\"\n",
    "  elsif ontology == \"DOID\"\n",
    "    sourceurl = \"https://api.disease-ontology.org/v1/terms/#{radboudsource}\"\n",
    "  elsif ontology == \"Orphanet\"\n",
    "    sourceurl = \"http://www.orpha.net/ORDO/#{radboudsource}\"\n",
    "  else\n",
    "    sourceurl = \"http://purl.obolibrary.org/obo/#{radboudsource}\"\n",
    "  end\n",
    "\n",
    "  sourcetitle = ontology_annotations(uri: sourceurl)\n",
    "  # lookup.lookup_title_by_uri(term_uri: url, ontology: ontology)\n",
    "  if sourcetitle\n",
    "    warn \"#{radboudsource}, #{sourceurl}, #{sourcetitle}\"\n",
    "  else # this shoujld never happen because the raw curie is returned if it fails\n",
    "    warn \"No match for #{source}, #{url}\"\n",
    "    e.write \"No match for #{source}, #{url}\"\n",
    "    next\n",
    "  end\n",
    "  \n",
    "# PROCESS TARGET COLUMN #######################################\n",
    "  radboudtarget = row[2]\n",
    "  ontology = radboudtarget.match(/([^_]+)_/)[1]\n",
    "\n",
    "  if ontology == \"EFO\"\n",
    "    targeturl = \"http://www.ebi.ac.uk/efo/#{radboudtarget}\"\n",
    "  elsif ontology == \"OTAR\"\n",
    "    targeturl = \"http://www.ebi.ac.uk/efo/#{radboudtarget}\"\n",
    "  elsif ontology == \"DOID\"\n",
    "    targeturl = \"https://api.disease-ontology.org/v1/terms/#{radboudtarget}\"\n",
    "  elsif ontology == \"Orphanet\"\n",
    "    targeturl = \"http://www.orpha.net/ORDO/#{radboudtarget}\"\n",
    "  else\n",
    "    targeturl = \"http://purl.obolibrary.org/obo/#{radboudtarget}\"\n",
    "  end\n",
    "\n",
    "  targettitle = ontology_annotations(uri: targeturl)\n",
    "  # lookup.lookup_title_by_uri(term_uri: url, ontology: ontology)\n",
    "  if targettitle\n",
    "    warn \"#{radboudtarget}, #{targeturl}, #{targettitle}\"\n",
    "  else # this shoujld never happen because the raw curie is returned if it fails\n",
    "    warn \"No match for #{radboudtarget}, #{targeturl}\"\n",
    "    e.write \"No match for #{radboudtarget}, #{targeturl}\"\n",
    "    next  \n",
    "  end\n",
    "  \n",
    "  \n",
    "\n",
    "  f.write CSV.generate_line([radboudsource, sourceurl, sourcetitle, radboudtarget, targeturl, targettitle])\n",
    "\n",
    "end\n",
    "\n",
    "f.close\n",
    "e.close"
   ]
  }
 ],
 "metadata": {
  "kernelspec": {
   "display_name": "Ruby 3.0.0",
   "language": "ruby",
   "name": "ruby"
  },
  "language_info": {
   "file_extension": ".rb",
   "mimetype": "application/x-ruby",
   "name": "ruby",
   "version": "3.0.0"
  }
 },
 "nbformat": 4,
 "nbformat_minor": 5
}
