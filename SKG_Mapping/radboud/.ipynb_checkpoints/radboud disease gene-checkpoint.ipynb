{
 "cells": [
  {
   "cell_type": "code",
   "execution_count": null,
   "id": "84498661",
   "metadata": {},
   "outputs": [],
   "source": [
    "puts `ls -l`\n"
   ]
  },
  {
   "cell_type": "code",
   "execution_count": null,
   "id": "596222ee",
   "metadata": {},
   "outputs": [],
   "source": [
    "puts `head rawdata/disease-gene.csv`"
   ]
  },
  {
   "cell_type": "code",
   "execution_count": null,
   "id": "f43b7e59",
   "metadata": {},
   "outputs": [],
   "source": [
    "puts `pwd`\n",
    "puts `ls -l`\n",
    "puts `head rawdata/disease-gene.csv`"
   ]
  },
  {
   "cell_type": "code",
   "execution_count": null,
   "id": "bea1c3be",
   "metadata": {},
   "outputs": [],
   "source": [
    "types = {}\n",
    "sources = {}\n",
    "targets = {}\n",
    "ttypes = {}\n",
    "\n",
    "File.readlines(\"rawdata/disease-gene.csv\", chomp: true).each do |line|\n",
    "  row = line.split(\",\")\n",
    "  next if row[0] == '\"source\"'\n",
    "\n",
    "  source = row[0].match(/([^_]+)/)[1]\n",
    "  sources[source] = 1\n",
    "  type = row[1]\n",
    "  types[type] = 1\n",
    "  abort row[2] unless row[2].match(/(ENSG)/)\n",
    "  target = row[2].match(/(ENSG)/)[1]\n",
    "  targets[target] = 1\n",
    "  ttype = row[3]\n",
    "  ttypes[ttype] = 1\n",
    "\n",
    "end\n",
    "puts \"Sources\"\n",
    "puts sources.keys\n",
    "puts \n",
    "puts \"Types\"\n",
    "puts types.keys\n",
    "puts \n",
    "puts \"Targets\"\n",
    "puts targets.keys\n",
    "puts\n",
    "puts \"Target Types\"\n",
    "puts ttypes.keys\n",
    "  \n",
    "  \n"
   ]
  },
  {
   "cell_type": "code",
   "execution_count": 5,
   "id": "3e70b05c",
   "metadata": {},
   "outputs": [
    {
     "name": "stderr",
     "output_type": "stream",
     "text": [
      "#<Net::ReadTimeout: Net::ReadTimeout>\n",
      "DOID_7551, http://purl.uniprot.org/uniprot/Q13753\n",
      "DOID_7551,ENSG00000058085,http://purl.uniprot.org/uniprot/Q13753,http://purl.uniprot.org/taxonomy/9606,Laminin subunit gamma-2\n"
     ]
    }
   ],
   "source": [
    "require '../Lookups/uniprot'\n",
    "require 'csv'\n",
    "\n",
    "u = UNIPROT.new\n",
    "f = File.open(\"ENSG-UP-mappings.csv\", \"w\")\n",
    "f.write \"source,ensembl,uniprot,taxon,prefname\\n\"\n",
    "\n",
    "File.readlines(\"rawdata/disease-gene.csv\", chomp: true).each do |line|\n",
    "  row = CSV.parse_line(line)\n",
    "  next if row[0] == 'source' || row.size < 3\n",
    "  \n",
    "  source = row[0]\n",
    "  target = row[2]\n",
    "  target = target.gsub(\"\\\"\", \"\")\n",
    "  protein, tax, recommended_full = u.search_by_ensgene(ensg: target)\n",
    "  warn \"#{source}, #{protein}\"\n",
    "  warn CSV.generate_line([source, target, protein, tax, recommended_full])  \n",
    "  f.write CSV.generate_line([source, target, protein, tax, recommended_full]) \n",
    "end\n",
    "f.close\n"
   ]
  }
 ],
 "metadata": {
  "kernelspec": {
   "display_name": "Ruby 3.0.0",
   "language": "ruby",
   "name": "ruby"
  },
  "language_info": {
   "file_extension": ".rb",
   "mimetype": "application/x-ruby",
   "name": "ruby",
   "version": "3.0.0"
  }
 },
 "nbformat": 4,
 "nbformat_minor": 5
}
