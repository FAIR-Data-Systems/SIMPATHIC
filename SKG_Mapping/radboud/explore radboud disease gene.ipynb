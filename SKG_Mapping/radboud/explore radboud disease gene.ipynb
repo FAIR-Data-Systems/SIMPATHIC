{
 "cells": [
  {
   "cell_type": "code",
   "execution_count": 1,
   "id": "84498661",
   "metadata": {},
   "outputs": [
    {
     "name": "stdout",
     "output_type": "stream",
     "text": [
      "total 7720\n",
      "-rw-rw-r-- 1 osboxes osboxes 3678593 Feb 21 15:57 disease-gene.csv\n",
      "-rw-rw-r-- 1 osboxes osboxes 1419434 Feb 21 15:57 disease-therapeuticarea.csv\n",
      "-rw-rw-r-- 1 osboxes osboxes   50286 Feb 21 15:56 drug-disease.csv\n",
      "-rw-rw-r-- 1 osboxes osboxes   97134 Feb 21 15:56 drug-drugtype.csv\n",
      "-rw-rw-r-- 1 osboxes osboxes  148014 Feb 21 15:56 drug-gene.csv\n",
      "-rw-rw-r-- 1 osboxes osboxes  201313 Feb 21 15:57 drug-reactome.csv\n",
      "-rw-rw-r-- 1 osboxes osboxes     576 Feb 21 15:58 edges.csv\n",
      "-rw------- 1 osboxes osboxes 2282825 Feb 21 15:46 Graph_edge_info.xlsx\n",
      "-rw-rw-r-- 1 osboxes osboxes      72 Feb 28 17:55 Untitled.ipynb\n"
     ]
    }
   ],
   "source": [
    "puts `ls -l`\n"
   ]
  },
  {
   "cell_type": "code",
   "execution_count": 2,
   "id": "596222ee",
   "metadata": {},
   "outputs": [
    {
     "name": "stdout",
     "output_type": "stream",
     "text": [
      "\"source\",\"source_type\",\"target\",\"target_type\"\n",
      "\"DOID_7551\",\"disease\",\"ENSG00000058085\",\"gene\"\n",
      "\"DOID_7551\",\"disease\",\"ENSG00000091831\",\"gene\"\n",
      "\"DOID_7551\",\"disease\",\"ENSG00000102755\",\"gene\"\n",
      "\"DOID_7551\",\"disease\",\"ENSG00000105329\",\"gene\"\n",
      "\"DOID_7551\",\"disease\",\"ENSG00000112115\",\"gene\"\n",
      "\"DOID_7551\",\"disease\",\"ENSG00000119888\",\"gene\"\n",
      "\"DOID_7551\",\"disease\",\"ENSG00000012779\",\"gene\"\n",
      "\"DOID_7551\",\"disease\",\"ENSG00000068024\",\"gene\"\n",
      "\"DOID_7551\",\"disease\",\"ENSG00000082701\",\"gene\"\n"
     ]
    }
   ],
   "source": [
    "puts `head disease-gene.csv`"
   ]
  },
  {
   "cell_type": "code",
   "execution_count": 10,
   "id": "f43b7e59",
   "metadata": {},
   "outputs": [
    {
     "name": "stdout",
     "output_type": "stream",
     "text": [
      "/home/osboxes/CODE/SIMPATHIC/SKG_Mapping/radboud\n",
      "total 7728\n",
      "-rw-rw-r-- 1 osboxes osboxes 3678593 Feb 21 15:57 disease-gene.csv\n",
      "-rw-rw-r-- 1 osboxes osboxes 1419434 Feb 21 15:57 disease-therapeuticarea.csv\n",
      "-rw-rw-r-- 1 osboxes osboxes   50286 Feb 21 15:56 drug-disease.csv\n",
      "-rw-rw-r-- 1 osboxes osboxes   97134 Feb 21 15:56 drug-drugtype.csv\n",
      "-rw-rw-r-- 1 osboxes osboxes  148014 Feb 21 15:56 drug-gene.csv\n",
      "-rw-rw-r-- 1 osboxes osboxes  201313 Feb 21 15:57 drug-reactome.csv\n",
      "-rw-rw-r-- 1 osboxes osboxes     576 Feb 21 15:58 edges.csv\n",
      "-rw-rw-r-- 1 osboxes osboxes    4376 Feb 28 18:49 explore radboud.ipynb\n",
      "-rw------- 1 osboxes osboxes 2282825 Feb 21 15:46 Graph_edge_info.xlsx\n",
      "-rw-rw-r-- 1 osboxes osboxes      63 Feb 28 18:43 notes\n",
      "\"source\",\"source_type\",\"target\",\"target_type\"\n",
      "\"DOID_7551\",\"disease\",\"ENSG00000058085\",\"gene\"\n",
      "\"DOID_7551\",\"disease\",\"ENSG00000091831\",\"gene\"\n",
      "\"DOID_7551\",\"disease\",\"ENSG00000102755\",\"gene\"\n",
      "\"DOID_7551\",\"disease\",\"ENSG00000105329\",\"gene\"\n",
      "\"DOID_7551\",\"disease\",\"ENSG00000112115\",\"gene\"\n",
      "\"DOID_7551\",\"disease\",\"ENSG00000119888\",\"gene\"\n",
      "\"DOID_7551\",\"disease\",\"ENSG00000012779\",\"gene\"\n",
      "\"DOID_7551\",\"disease\",\"ENSG00000068024\",\"gene\"\n",
      "\"DOID_7551\",\"disease\",\"ENSG00000082701\",\"gene\"\n"
     ]
    }
   ],
   "source": [
    "puts `pwd`\n",
    "puts `ls -l`\n",
    "puts `head disease-gene.csv`"
   ]
  },
  {
   "cell_type": "code",
   "execution_count": 13,
   "id": "bea1c3be",
   "metadata": {},
   "outputs": [
    {
     "name": "stdout",
     "output_type": "stream",
     "text": [
      "left side\n",
      "\"source\"\n",
      "\"DOID\n",
      "\"HP\n",
      "\"MONDO\n",
      "\"EFO\n",
      "\"OBI\n",
      "\"NCIT\n",
      "\"Orphanet\n",
      "\"OTAR\n"
     ]
    }
   ],
   "source": [
    "types = {}\n",
    "File.readlines(\"disease-gene.csv\", chomp: true).each do |line|\n",
    "  row = line.split(\",\")\n",
    "  type = row[0].match(/([^_]+)/)[1]\n",
    "  types[type] = 1\n",
    "end\n",
    "puts \"left side\"\n",
    "puts types.keys\n",
    "  \n"
   ]
  }
 ],
 "metadata": {
  "kernelspec": {
   "display_name": "Ruby 3.0.0",
   "language": "ruby",
   "name": "ruby"
  },
  "language_info": {
   "file_extension": ".rb",
   "mimetype": "application/x-ruby",
   "name": "ruby",
   "version": "3.0.0"
  }
 },
 "nbformat": 4,
 "nbformat_minor": 5
}
