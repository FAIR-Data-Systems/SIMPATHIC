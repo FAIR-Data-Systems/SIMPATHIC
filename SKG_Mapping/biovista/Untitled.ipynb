{
 "cells": [
  {
   "cell_type": "code",
   "execution_count": null,
   "id": "2ef7f28e",
   "metadata": {},
   "outputs": [],
   "source": [
    "puts `ls /tmp/`\n"
   ]
  }
 ],
 "metadata": {
  "kernelspec": {
   "display_name": "Ruby 3.0.0",
   "language": "ruby",
   "name": "ruby"
  }
 },
 "nbformat": 4,
 "nbformat_minor": 5
}
