{
 "cells": [
  {
   "cell_type": "code",
   "execution_count": 4,
   "id": "6be20aad",
   "metadata": {},
   "outputs": [
    {
     "name": "stdout",
     "output_type": "stream",
     "text": [
      "total 620\n",
      "-rw-rw-r-- 1 osboxes osboxes 259423 May 29 19:23 biovista-diseases-2025.ipynb\n",
      "-rw-rw-r-- 1 osboxes osboxes  66941 Jun  4 15:25 biovista-drug-2025.ipynb\n",
      "-rw-rw-r-- 1 osboxes osboxes  49944 May 29 17:37 biovista-gene-2025.ipynb\n",
      "-rw-rw-r-- 1 osboxes osboxes 145025 Jun  4 17:16 biovista-pathways-2025.ipynb\n",
      "-rw-rw-r-- 1 osboxes osboxes  31822 Jun  4 15:38 biovista-phenotypes.ipynb\n",
      "-rw-rw-r-- 1 osboxes osboxes  18570 Jul  1 10:51 BV Drug-Disease Graphing.ipynb\n",
      "-rw-rw-r-- 1 osboxes osboxes  26990 Jul  1 11:46 BV Drug-Gene Graphing.ipynb\n",
      "drwxrwxr-x 2 osboxes osboxes   4096 Jun  4 15:37 deprecated\n",
      "-rw-rw-r-- 1 osboxes osboxes   1282 May 29 21:19 drug mapping strategy\n",
      "drwxrwxr-x 2 osboxes osboxes   4096 Jun  4 16:05 maps\n",
      "drwxrwxr-x 2 osboxes osboxes   4096 May 22 16:58 maps backup\n",
      "drwxrwxr-x 2 osboxes osboxes   4096 Jun  4 17:07 raw_data\n"
     ]
    }
   ],
   "source": [
    "puts `ls -l`"
   ]
  },
  {
   "cell_type": "code",
   "execution_count": 6,
   "id": "1643b67c",
   "metadata": {},
   "outputs": [
    {
     "name": "stdout",
     "output_type": "stream",
     "text": [
      "source_1\tid_1\ttype_1\tname_1\tsource_2\tid_2\ttype_2\tname_2\tscore\turl\n",
      "UMLS:Disease or Syndrome:MSH\tC0268631\tDisease\tSSADH Deficiency\tHP:human_phenotype\tHP:0001263\tHuman Phenotype\tGlobal developmental delay\t0.0501869\thttps://www.biovista.com/db/link/%5B%5B%22Disease%7CSSADH%20Deficiency%22%5D,%20%5B%22Human%20Phenotype%7CGlobal%20developmental%20delay%22%5D%5D?strength-weight-map=%257B%2522MEDLINE_STRENGTH_AB%2522:1.0,%2522HPO%2522:100.0%257D\n"
     ]
    }
   ],
   "source": [
    "puts `head -2 ./raw_data/bv-kg-20250225.large`"
   ]
  },
  {
   "cell_type": "code",
   "execution_count": 9,
   "id": "eb0ebb8e",
   "metadata": {},
   "outputs": [
    {
     "name": "stdout",
     "output_type": "stream",
     "text": [
      "Disease\n",
      "Pathway\n",
      "Drug\n",
      "Human Phenotype\n",
      "Gene\n",
      "\n",
      "Human Phenotype\n",
      "Gene\n",
      "Pathway\n",
      "Drug\n"
     ]
    }
   ],
   "source": [
    "require 'csv'\n",
    "drugs = {}\n",
    "sourcesleft = {}\n",
    "sourcesright = {}\n",
    "CSV.foreach('./raw_data/bv-kg-20250225.large', col_sep: \"\\t\", quote_char: '\"', liberal_parsing: true, headers: true) do |row|\n",
    "  sourcesleft[row[\"type_1\"]] = 1\n",
    "  sourcesright[row[\"type_2\"]] = 1\n",
    "end\n",
    "puts sourcesleft.keys\n",
    "puts\n",
    "puts sourcesright.keys\n"
   ]
  },
  {
   "cell_type": "code",
   "execution_count": 12,
   "id": "ad90755a",
   "metadata": {},
   "outputs": [
    {
     "name": "stdout",
     "output_type": "stream",
     "text": [
      "biovista_meshid,biovista_label,CID,IUPACname\n",
      "http://purl.bioontology.org/ontology/MESH/D005680,gamma-Aminobutyric Acid,119,4-aminobutanoic acid\n",
      "http://purl.bioontology.org/ontology/MESH/D012978,Sodium Oxybate,23663870,sodium;4-hydroxybutanoate\n",
      "http://purl.bioontology.org/ontology/MESH/D020888,Vigabatrin,5665,4-aminohex-5-enoic acid\n",
      "http://purl.bioontology.org/ontology/MESH/C066471,NCS 382,3613485,\"sodium;2-(5-hydroxy-5,7,8,9-tetrahydrobenzo[7]annulen-6-ylidene)acetate\"\n"
     ]
    }
   ],
   "source": [
    "puts `head -5 ./maps/2025-biovista-drugs.map`"
   ]
  },
  {
   "cell_type": "markdown",
   "id": "6fec219e",
   "metadata": {},
   "source": [
    "# genes have two sources\n",
    "\n",
    "biovista-genes  are from NCBI and UniProt\n",
    "\n",
    "and\n",
    "\n",
    "biovista-mesh (these are mostly gene categories not genes...)\n",
    "\n",
    "Handled separately"
   ]
  },
  {
   "cell_type": "code",
   "execution_count": 1,
   "id": "0fe4795e",
   "metadata": {},
   "outputs": [
    {
     "name": "stdout",
     "output_type": "stream",
     "text": [
      "bv_geneid,bv_label,geneid,protein,recommended_full,taxon\n",
      "11758,GPx,http://purl.uniprot.org/geneid/11758,http://purl.uniprot.org/uniprot/D3Z0Y2,Peroxiredoxin-6,http://purl.uniprot.org/taxonomy/10090\n",
      "11758,GPx,http://purl.uniprot.org/geneid/11758,http://purl.uniprot.org/uniprot/O08709,Peroxiredoxin-6,http://purl.uniprot.org/taxonomy/10090\n",
      "11758,GPx,http://purl.uniprot.org/geneid/11758,http://purl.uniprot.org/uniprot/Q6GT24,Peroxiredoxin-6,http://purl.uniprot.org/taxonomy/10090\n",
      "1213,HC,http://purl.uniprot.org/geneid/1213,http://purl.uniprot.org/uniprot/A0A087WVQ6,Clathrin heavy chain,http://purl.uniprot.org/taxonomy/9606\n"
     ]
    }
   ],
   "source": [
    "puts `head -5 ./maps/2025-biovista-genes.map`"
   ]
  },
  {
   "cell_type": "code",
   "execution_count": 2,
   "id": "0c6ffdc6",
   "metadata": {},
   "outputs": [
    {
     "name": "stdout",
     "output_type": "stream",
     "text": [
      "RDF quads written\n"
     ]
    }
   ],
   "source": [
    "require 'linkeddata'\n",
    "require 'csv'\n",
    "\n",
    "graphing_errors = File.open('./graph/drug-gene-errors.txt', 'w') \n",
    "\n",
    "# Define namespaces\n",
    "SIMPATHIC = RDF::Vocabulary.new('urn:simpathic:')\n",
    "RDFS = RDF::Vocabulary.new('http://www.w3.org/2000/01/rdf-schema#')\n",
    "\n",
    "# Read input files\n",
    "drug_mappings = CSV.read('./maps/2025-biovista-drugs.map', headers: true)\n",
    "gene_mappings = CSV.read('./maps/2025-biovista-genes.map', headers: true)\n",
    "\n",
    "# Create RDF graph\n",
    "graph = RDF::Graph.new\n",
    "\n",
    "failures = {}\n",
    "# Process each entity relation\n",
    "CSV.foreach('./raw_data/bv-kg-20250225.large', col_sep: \"\\t\", quote_char: '\"', \n",
    "  liberal_parsing: true, headers: true) do |row|\n",
    "        # Disease\n",
    "        # Pathway\n",
    "        # Drug\n",
    "        # Human Phenotype\n",
    "        # Gene\n",
    "  next unless row['type_1'] == \"Drug\" or row['type_2'] == \"Drug\"\n",
    "  next unless row['type_1'] == \"Gene\" or row['type_2'] == \"Gene\"\n",
    "  if row['type_1'] == \"Drug\"\n",
    "    drug_id = row['id_1']\n",
    "    gene_id = row['id_2']  # gene ids from NCBI are only numerical, from MeSH have a letter\n",
    "  else\n",
    "    drug_id = row['id_2']\n",
    "    gene_id = row['id_1']\n",
    "  end\n",
    "  \n",
    "  # Find corresponding mappings\n",
    "  \n",
    "  # mesh is going to be differnt from NCBI\n",
    "  next if gene_id =~ /\\w/  # this is a MeSH id, so we can't deal with it here\n",
    "\n",
    "  \n",
    "  drug = drug_mappings.find { |d| d['biovista_meshid'] == \"http://purl.bioontology.org/ontology/MESH/#{drug_id}\"}\n",
    "  gene = gene_mappings.find { |d| d['bv_geneid'] == gene_id }\n",
    "  \n",
    "  unless drug\n",
    "    next if failures[drug_id]\n",
    "    failures[drug_id] = 1\n",
    "    warn \"drug lookup failed #{drug_id}\"\n",
    "    graphing_errors.write \"drug lookup failed #{drug_id}\\n\"\n",
    "    next\n",
    "  end\n",
    "  unless gene\n",
    "    next if failures[gene_id]\n",
    "    failures[gene_id] = 1\n",
    "    warn \"gene lookup failed #{gene_id}\"\n",
    "    graphing_errors.write \"gene lookup failed #{gene_id}\\n\"\n",
    "    next\n",
    "  end\n",
    "  \n",
    "  # Extract relevant IDs and labels\n",
    "  # biovista_meshid,biovista_label,CID,IUPACname\n",
    "  # http://purl.bioontology.org/ontology/MESH/D005680,gamma-Aminobutyric Acid,119,4-aminobutanoic acid\n",
    "  pubchem_uri = RDF::URI.new(drug['CID'])\n",
    "  pubchem_type = RDF::URI.new(\"http://semanticscience.org/resource/CHEMINF_000302\")\n",
    "  pubchem_label =  RDF::Literal.new(\"PubChem Identifier\")\n",
    "  pubchem_core_type = RDF::URI.new(\"https://w3id.org/biolink/vocab/Drug\")\n",
    "  biovista_drug_label = RDF::Literal.new(drug['biovista_label'])\n",
    "  iupac_drug_label = RDF::Literal.new(drug['IUPACname'])\n",
    "\n",
    "  #   bv_geneid,bv_label,geneid,protein,recommended_full,taxon\n",
    "  # 11758,GPx,http://purl.uniprot.org/geneid/11758,http://purl.uniprot.org/uniprot/D3Z0Y2,Peroxiredoxin-6,http://purl.uniprot.org/taxonomy/10090\n",
    "  gene_uri = RDF::URI.new(gene['geneid'])\n",
    "  gene_type = RDF::URI.new(\"http://edamontology.org/data_1027\")\n",
    "  gene_label =  RDF::Literal.new(\"NCBI/UniProt Gene Identifier\")\n",
    "  gene_core_type = RDF::URI.new(\"https://w3id.org/biolink/vocab/Gene\")\n",
    "  biovista_gene_label = RDF::Literal.new(gene['bv_label'])\n",
    "\n",
    "  \n",
    "  protein_uri = RDF::URI.new(gene['protein'])\n",
    "  protein_type = RDF::URI.new(\"http://edamontology.org/data_2291\")\n",
    "  protein_label =  RDF::Literal.new(\"UniProt Identifier\")\n",
    "  protein_core_type = RDF::URI.new(\"https://w3id.org/biolink/vocab/Protein\")\n",
    "  biovista_protein_label = RDF::Literal.new(gene['recommended_full'])\n",
    "    \n",
    "  taxon = RDF::URI.new(gene['taxon'])\n",
    "  \n",
    "  # Create context URI\n",
    "  context_uri = RDF::URI.new(\"urn:simpathic:context:#{drug_id}_#{gene_id}\")\n",
    "  \n",
    "  # Add quads to graph using RDF::Statement\n",
    "  graph << RDF::Statement.new(pubchem_uri, SIMPATHIC['associated-with'], gene_uri, graph_name: context_uri)\n",
    "  \n",
    "  graph << RDF::Statement.new(pubchem_uri,  RDFS.label,     biovista_drug_label, graph_name: context_uri)\n",
    "  graph << RDF::Statement.new(pubchem_uri,  RDFS.label,     iupac_drug_label, graph_name: context_uri)\n",
    "  graph << RDF::Statement.new(pubchem_uri,  RDF.type,       pubchem_type,          graph_name: context_uri)\n",
    "  graph << RDF::Statement.new(pubchem_uri,  RDF.type,       pubchem_core_type,             graph_name: context_uri)\n",
    "  graph << RDF::Statement.new(pubchem_type, RDFS.label,     RDF::Literal.new(\"PubChem\"), graph_name: context_uri)\n",
    "  graph << RDF::Statement.new(pubchem_core_type, RDFS.label,     RDF::Literal.new(\"Drug\"), graph_name: context_uri)\n",
    "  graph << RDF::Statement.new(pubchem_uri,  SIMPATHIC['original-id'], RDF::Literal.new(\"#{drug_id}\"), graph_name: context_uri)\n",
    "  \n",
    "  graph << RDF::Statement.new(gene_uri,  RDFS.label,       biovista_gene_label , graph_name: context_uri)\n",
    "  graph << RDF::Statement.new(gene_uri,  RDF.type,         gene_type, graph_name: context_uri)\n",
    "  graph << RDF::Statement.new(gene_uri,  RDF.type,         gene_core_type, graph_name: context_uri)\n",
    "  graph << RDF::Statement.new(gene_type, RDFS.label,       RDF::Literal.new(\"NCBI Gene\"), graph_name: context_uri)\n",
    "  graph << RDF::Statement.new(gene_core_type, RDFS.label,  RDF::Literal.new(\"Gene\"), graph_name: context_uri)\n",
    "  graph << RDF::Statement.new(gene_uri,  SIMPATHIC['original-id'], RDF::Literal.new(\"#{gene_id}\"), graph_name: context_uri)\n",
    "  graph << RDF::Statement.new(gene_uri,  SIMPATHIC['in-taxon'], taxon, graph_name: context_uri)\n",
    "  \n",
    "\n",
    "  graph << RDF::Statement.new(pubchem_uri, SIMPATHIC['associated-with'], protein_uri, graph_name: context_uri)\n",
    "  \n",
    "  graph << RDF::Statement.new(protein_uri,  RDFS.label,       biovista_protein_label , graph_name: context_uri)\n",
    "  graph << RDF::Statement.new(protein_uri,  RDF.type,         protein_type, graph_name: context_uri)\n",
    "  graph << RDF::Statement.new(protein_uri,  RDF.type,         protein_core_type, graph_name: context_uri)\n",
    "  graph << RDF::Statement.new(protein_type, RDFS.label,       RDF::Literal.new(\"UniProt\"), graph_name: context_uri)\n",
    "  graph << RDF::Statement.new(protein_core_type, RDFS.label,  RDF::Literal.new(\"Protein\"), graph_name: context_uri)\n",
    "  graph << RDF::Statement.new(protein_uri,  SIMPATHIC['original-id'], RDF::Literal.new(\"#{gene_id}\"), graph_name: context_uri)\n",
    "  graph << RDF::Statement.new(protein_uri,  SIMPATHIC['in-taxon'], taxon, graph_name: context_uri)\n",
    "\n",
    "  \n",
    "  graph << RDF::Statement.new(context_uri, SIMPATHIC['skg-source'], RDF::Literal.new(\"BioVista\"), graph_name: context_uri)\n",
    "  graph << RDF::Statement.new(context_uri, SIMPATHIC['skg-evidence'], RDF::Literal.new(\"TBD\"), graph_name: context_uri)\n",
    "end\n",
    "\n",
    "# Write RDF to file in N-Quads format\n",
    "File.open('./graph/drug-gene.nq', 'w') do |f|\n",
    "  RDF::Writer.for(:nquads).new(f) do |writer|\n",
    "    writer << graph\n",
    "  end\n",
    "end\n",
    "graphing_errors.close\n",
    "\n",
    "puts \"RDF quads written\""
   ]
  },
  {
   "cell_type": "code",
   "execution_count": 18,
   "id": "858ae0da",
   "metadata": {},
   "outputs": [],
   "source": [
    "graphing_errors.close"
   ]
  }
 ],
 "metadata": {
  "kernelspec": {
   "display_name": "Ruby 3.0.0",
   "language": "ruby",
   "name": "ruby"
  },
  "language_info": {
   "file_extension": ".rb",
   "mimetype": "application/x-ruby",
   "name": "ruby",
   "version": "3.0.0"
  }
 },
 "nbformat": 4,
 "nbformat_minor": 5
}
