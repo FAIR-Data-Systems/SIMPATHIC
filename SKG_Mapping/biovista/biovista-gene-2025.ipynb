{
 "cells": [
  {
   "cell_type": "code",
   "execution_count": 1,
   "id": "9c69aca2",
   "metadata": {},
   "outputs": [
    {
     "name": "stderr",
     "output_type": "stream",
     "text": [
      "/home/osboxes/CODE/SIMPATHIC/SKG_Mapping/Lookups/ontologyservers/ncbo.rb:4: warning: already initialized constant PARAMS\n",
      "/home/osboxes/CODE/SIMPATHIC/SKG_Mapping/Lookups/ontologyservers/edam.rb:4: warning: previous definition of PARAMS was here\n"
     ]
    },
    {
     "name": "stdout",
     "output_type": "stream",
     "text": [
      "source_1\tid_1\ttype_1\tname_1\tsource_2\tid_2\ttype_2\tname_2\tscore\turl\n",
      "UMLS:Disease or Syndrome:MSH\tC0268631\tDisease\tSSADH Deficiency\tHP:human_phenotype\tHP:0001263\tHuman Phenotype\tGlobal developmental delay\t0.0501869\thttps://www.biovista.com/db/link/%5B%5B%22Disease%7CSSADH%20Deficiency%22%5D,%20%5B%22Human%20Phenotype%7CGlobal%20developmental%20delay%22%5D%5D?strength-weight-map=%257B%2522MEDLINE_STRENGTH_AB%2522:1.0,%2522HPO%2522:100.0%257D\n"
     ]
    }
   ],
   "source": [
    "require 'json'\n",
    "require 'rest-client'\n",
    "require 'linkeddata'\n",
    "require 'sparql/client'\n",
    "require 'csv'\n",
    "require '../Lookups/metadata_functions.rb'\n",
    "\n",
    "CSVFILE = \"./raw_data/bv-kg-20250225.large\".freeze\n",
    "OUTPUT = \"./maps/2025-biovista-genes.map\".freeze\n",
    "# puts `ls`\n",
    "puts `head -2 ./raw_data/bv-kg-20250225.large`"
   ]
  },
  {
   "cell_type": "code",
   "execution_count": 2,
   "id": "264b0759",
   "metadata": {},
   "outputs": [
    {
     "name": "stdout",
     "output_type": "stream",
     "text": [
      "done\n"
     ]
    }
   ],
   "source": [
    "ncbi = Hash.new\n",
    "mesh = Hash.new\n",
    "CSV.foreach(CSVFILE, headers: true, col_sep: \"\\t\") do |row|\n",
    "  if row['type_1'] == \"Gene\"\n",
    "    if row['source_1'] =~ /NCBI/ || row['source_1'] =~ /UniProt/\n",
    "      ncbi[row['id_1']] = 1\n",
    "    elsif row['source_1'] =~ /MeSH/\n",
    "      mesh[row['id_1']] = 1\n",
    "    else\n",
    "      abort row['source_1']\n",
    "    end\n",
    "  end\n",
    "  if row['type_2'] == \"Gene\"\n",
    "    if row['source_2'] =~ /NCBI/ || row['source_2'] =~ /UniProt/\n",
    "      ncbi[row['id_2']] = 1\n",
    "    elsif row['source_2'] =~ /MeSH/\n",
    "      mesh[row['id_2']] = 1\n",
    "    else\n",
    "      abort row['source_2']\n",
    "    end\n",
    "  end\n",
    "end\n",
    "puts \"done\"\n"
   ]
  },
  {
   "cell_type": "code",
   "execution_count": null,
   "id": "272a284a",
   "metadata": {},
   "outputs": [],
   "source": [
    "def format_ncbi_values_clause(idlist:, batch_size: 20)\n",
    "  # used to make efficient sparql\n",
    "  valueslist = Array.new\n",
    "  puts idlist.size\n",
    "#   slice = 1\n",
    "  base_uri = \"<http://purl.uniprot.org/geneid/%s>\"\n",
    "  idlist.each_slice(batch_size).map do |batch|\n",
    "#     puts slice\n",
    "#     slice = slice + 1\n",
    "    values = batch.map { |id| base_uri % id }.join(' ')\n",
    "    valueslist << values\n",
    "  end\n",
    "  valueslist\n",
    "end"
   ]
  },
  {
   "cell_type": "code",
   "execution_count": null,
   "id": "21e34242",
   "metadata": {},
   "outputs": [],
   "source": [
    "genequery = \"\n",
    "PREFIX xsd: <http://www.w3.org/2001/XMLSchema#>\n",
    "PREFIX uniprotkb: <http://purl.uniprot.org/uniprot/>\n",
    "PREFIX taxon: <http://purl.uniprot.org/taxonomy/>\n",
    "PREFIX rdfs: <http://www.w3.org/2000/01/rdf-schema#>\n",
    "PREFIX rdf: <http://www.w3.org/1999/02/22-rdf-syntax-ns#>\n",
    "PREFIX skos: <http://www.w3.org/2004/02/skos/core#>\n",
    "PREFIX up: <http://purl.uniprot.org/core/>\n",
    "SELECT distinct ?geneid ?protein ?recommended_full ?taxon\n",
    "WHERE\n",
    "{\n",
    "        VALUES ?geneid {|||VALUES|||}\n",
    "        ?protein a up:Protein .\n",
    "  \t\t?protein rdfs:seeAlso ?geneid . # seeAlso http://purl.uniprot.org/geneid/939976\n",
    "  \t\t?protein up:organism ?taxon .\n",
    "  \t\t?protein up:recommendedName ?rname .\n",
    "  \t\t?rname up:fullName ?recommended_full .\n",
    "}\"\n",
    "puts"
   ]
  },
  {
   "cell_type": "code",
   "execution_count": null,
   "id": "5dfc3ca5",
   "metadata": {},
   "outputs": [],
   "source": [
    "out = File.open(OUTPUT, \"w\");\n",
    "out.write \"geneid,protein,recommended_full,taxon\\n\"\n",
    "\n",
    "# puts genes.keys.size\n",
    "\n",
    "sparql = SPARQL::Client.new(\"https://sparql.uniprot.org/sparql/\")\n",
    "\n",
    "batches = format_ncbi_values_clause(idlist: ncbi.keys)\n",
    "batches.each do |batch|\n",
    "  retry_attempts = 0\n",
    "  begin\n",
    "    result = sparql.query(genequery.gsub(\"|||VALUES|||\", batch))\n",
    "  rescue StandardError => e\n",
    "    retry_attempts += 1\n",
    "    if retry_attempts < 10\n",
    "      retry\n",
    "    else\n",
    "      puts e.inspect\n",
    "      abort\n",
    "    end\n",
    "  end\n",
    "  puts \"FOUND: #{result.size}\"\n",
    "  abort \"#{batch}\\n#{result.inspect}\" unless result.size >= 20\n",
    "  result.each do |res|\n",
    "    puts \"#{res['geneid']},#{res['protein']},#{res['recommended_full']},#{res['taxon']}\"\n",
    "    out.write CSV.generate_line([res[\"geneid\"],res[\"protein\"],res[\"recommended_full\"],res[\"taxon\"]])\n",
    "  end\n",
    "end\n",
    "\n",
    "out.close\n",
    "puts \"done ncbi\"\n"
   ]
  },
  {
   "cell_type": "code",
   "execution_count": 3,
   "id": "f46ce52b",
   "metadata": {},
   "outputs": [
    {
     "name": "stderr",
     "output_type": "stream",
     "text": [
      "Final URL list [\"http://purl.bioontology.org/ontology/MESH/D011963\"]\n",
      "\n",
      "processing http://purl.bioontology.org/ontology/MESH/D011963\n",
      "NCBO\n",
      "ontology MESH\n",
      "term: Receptors, GABA-A\n"
     ]
    },
    {
     "name": "stdout",
     "output_type": "stream",
     "text": [
      "http://purl.bioontology.org/ontology/MESH/D011963,Receptors, GABA-A,http://purl.uniprot.org/taxonomy/9606\n"
     ]
    },
    {
     "name": "stderr",
     "output_type": "stream",
     "text": [
      "Final URL list [\"http://purl.bioontology.org/ontology/MESH/D006884\"]\n",
      "\n",
      "processing http://purl.bioontology.org/ontology/MESH/D006884\n",
      "NCBO\n",
      "ontology MESH\n",
      "term: Hydroxybutyrate Dehydrogenase\n"
     ]
    },
    {
     "name": "stdout",
     "output_type": "stream",
     "text": [
      "http://purl.bioontology.org/ontology/MESH/D006884,Hydroxybutyrate Dehydrogenase,http://purl.uniprot.org/taxonomy/9606\n"
     ]
    },
    {
     "name": "stderr",
     "output_type": "stream",
     "text": [
      "Final URL list [\"http://purl.bioontology.org/ontology/MESH/C019416\"]\n",
      "\n",
      "processing http://purl.bioontology.org/ontology/MESH/C019416\n",
      "NCBO\n",
      "ontology MESH\n",
      "term: 4-hydroxybutyrate dehydrogenase\n"
     ]
    },
    {
     "name": "stdout",
     "output_type": "stream",
     "text": [
      "http://purl.bioontology.org/ontology/MESH/C019416,4-hydroxybutyrate dehydrogenase,http://purl.uniprot.org/taxonomy/9606\n"
     ]
    },
    {
     "name": "stderr",
     "output_type": "stream",
     "text": [
      "Final URL list [\"http://purl.bioontology.org/ontology/MESH/D018080\"]\n",
      "\n",
      "processing http://purl.bioontology.org/ontology/MESH/D018080\n",
      "NCBO\n",
      "ontology MESH\n",
      "term: Receptors, GABA-B\n"
     ]
    },
    {
     "name": "stdout",
     "output_type": "stream",
     "text": [
      "http://purl.bioontology.org/ontology/MESH/D018080,Receptors, GABA-B,http://purl.uniprot.org/taxonomy/9606\n"
     ]
    },
    {
     "name": "stderr",
     "output_type": "stream",
     "text": [
      "Final URL list [\"http://purl.bioontology.org/ontology/MESH/D018079\"]\n",
      "\n",
      "processing http://purl.bioontology.org/ontology/MESH/D018079\n",
      "NCBO\n",
      "ontology MESH\n",
      "term: Receptors, GABA\n"
     ]
    },
    {
     "name": "stdout",
     "output_type": "stream",
     "text": [
      "http://purl.bioontology.org/ontology/MESH/D018079,Receptors, GABA,http://purl.uniprot.org/taxonomy/9606\n"
     ]
    },
    {
     "name": "stderr",
     "output_type": "stream",
     "text": [
      "Final URL list [\"http://purl.bioontology.org/ontology/MESH/D002336\"]\n",
      "\n",
      "processing http://purl.bioontology.org/ontology/MESH/D002336\n",
      "NCBO\n",
      "ontology MESH\n",
      "term: Carnosine\n"
     ]
    },
    {
     "name": "stdout",
     "output_type": "stream",
     "text": [
      "http://purl.bioontology.org/ontology/MESH/D002336,Carnosine,http://purl.uniprot.org/taxonomy/9606\n"
     ]
    },
    {
     "name": "stderr",
     "output_type": "stream",
     "text": [
      "Final URL list [\"http://purl.bioontology.org/ontology/MESH/C510153\"]\n",
      "\n",
      "processing http://purl.bioontology.org/ontology/MESH/C510153\n",
      "NCBO\n",
      "ontology MESH\n",
      "term: SPECT protein, Plasmodium berghei\n"
     ]
    },
    {
     "name": "stdout",
     "output_type": "stream",
     "text": [
      "http://purl.bioontology.org/ontology/MESH/C510153,SPECT protein, Plasmodium berghei,http://purl.uniprot.org/taxonomy/9606\n"
     ]
    },
    {
     "name": "stderr",
     "output_type": "stream",
     "text": [
      "Final URL list [\"http://purl.bioontology.org/ontology/MESH/D018009\"]\n",
      "\n",
      "processing http://purl.bioontology.org/ontology/MESH/D018009\n",
      "NCBO\n",
      "ontology MESH\n",
      "term: Receptors, Glycine\n"
     ]
    },
    {
     "name": "stdout",
     "output_type": "stream",
     "text": [
      "http://purl.bioontology.org/ontology/MESH/D018009,Receptors, Glycine,http://purl.uniprot.org/taxonomy/9606\n"
     ]
    },
    {
     "name": "stderr",
     "output_type": "stream",
     "text": [
      "Final URL list [\"http://purl.bioontology.org/ontology/MESH/D017470\"]\n",
      "\n",
      "processing http://purl.bioontology.org/ontology/MESH/D017470\n",
      "NCBO\n",
      "ontology MESH\n",
      "term: Receptors, Glutamate\n"
     ]
    },
    {
     "name": "stdout",
     "output_type": "stream",
     "text": [
      "http://purl.bioontology.org/ontology/MESH/D017470,Receptors, Glutamate,http://purl.uniprot.org/taxonomy/9606\n"
     ]
    },
    {
     "name": "stderr",
     "output_type": "stream",
     "text": [
      "Final URL list [\"http://purl.bioontology.org/ontology/MESH/D014453\"]\n",
      "\n",
      "processing http://purl.bioontology.org/ontology/MESH/D014453\n",
      "NCBO\n",
      "ontology MESH\n",
      "term: Glucuronosyltransferase\n"
     ]
    },
    {
     "name": "stdout",
     "output_type": "stream",
     "text": [
      "http://purl.bioontology.org/ontology/MESH/D014453,Glucuronosyltransferase,http://purl.uniprot.org/taxonomy/9606\n"
     ]
    },
    {
     "name": "stderr",
     "output_type": "stream",
     "text": [
      "Final URL list [\"http://purl.bioontology.org/ontology/MESH/D011950\"]\n",
      "\n",
      "processing http://purl.bioontology.org/ontology/MESH/D011950\n",
      "NCBO\n",
      "ontology MESH\n",
      "term: Receptors, Cholinergic\n"
     ]
    },
    {
     "name": "stdout",
     "output_type": "stream",
     "text": [
      "http://purl.bioontology.org/ontology/MESH/D011950,Receptors, Cholinergic,http://purl.uniprot.org/taxonomy/9606\n"
     ]
    },
    {
     "name": "stderr",
     "output_type": "stream",
     "text": [
      "Final URL list [\"http://purl.bioontology.org/ontology/MESH/D003091\"]\n",
      "\n",
      "processing http://purl.bioontology.org/ontology/MESH/D003091\n",
      "NCBO\n",
      "ontology MESH\n",
      "term: Colistin\n"
     ]
    },
    {
     "name": "stdout",
     "output_type": "stream",
     "text": [
      "http://purl.bioontology.org/ontology/MESH/D003091,Colistin,http://purl.uniprot.org/taxonomy/9606\n"
     ]
    },
    {
     "name": "stderr",
     "output_type": "stream",
     "text": [
      "Final URL list [\"http://purl.bioontology.org/ontology/MESH/D011978\"]\n",
      "\n",
      "processing http://purl.bioontology.org/ontology/MESH/D011978\n",
      "NCBO\n",
      "ontology MESH\n",
      "term: Receptors, Nicotinic\n"
     ]
    },
    {
     "name": "stdout",
     "output_type": "stream",
     "text": [
      "http://purl.bioontology.org/ontology/MESH/D011978,Receptors, Nicotinic,http://purl.uniprot.org/taxonomy/9606\n"
     ]
    },
    {
     "name": "stderr",
     "output_type": "stream",
     "text": [
      "Final URL list [\"http://purl.bioontology.org/ontology/MESH/C490829\"]\n",
      "\n",
      "processing http://purl.bioontology.org/ontology/MESH/C490829\n",
      "NCBO\n",
      "ontology MESH\n",
      "term: MuSK protein, zebrafish\n"
     ]
    },
    {
     "name": "stdout",
     "output_type": "stream",
     "text": [
      "http://purl.bioontology.org/ontology/MESH/C490829,MuSK protein, zebrafish,http://purl.uniprot.org/taxonomy/9606\n"
     ]
    },
    {
     "name": "stderr",
     "output_type": "stream",
     "text": [
      "Final URL list [\"http://purl.bioontology.org/ontology/MESH/D011113\"]\n",
      "\n",
      "processing http://purl.bioontology.org/ontology/MESH/D011113\n",
      "NCBO\n",
      "ontology MESH\n",
      "term: Polymyxins\n"
     ]
    },
    {
     "name": "stdout",
     "output_type": "stream",
     "text": [
      "http://purl.bioontology.org/ontology/MESH/D011113,Polymyxins,http://purl.uniprot.org/taxonomy/9606\n"
     ]
    },
    {
     "name": "stderr",
     "output_type": "stream",
     "text": [
      "Final URL list [\"http://purl.bioontology.org/ontology/MESH/D048868\"]\n",
      "\n",
      "processing http://purl.bioontology.org/ontology/MESH/D048868\n",
      "NCBO\n",
      "ontology MESH\n",
      "term: Adaptor Proteins, Signal Transducing\n"
     ]
    },
    {
     "name": "stdout",
     "output_type": "stream",
     "text": [
      "http://purl.bioontology.org/ontology/MESH/D048868,Adaptor Proteins, Signal Transducing,http://purl.uniprot.org/taxonomy/9606\n"
     ]
    },
    {
     "name": "stderr",
     "output_type": "stream",
     "text": [
      "Final URL list [\"http://purl.bioontology.org/ontology/MESH/D011112\"]\n",
      "\n",
      "processing http://purl.bioontology.org/ontology/MESH/D011112\n",
      "NCBO\n",
      "ontology MESH\n",
      "term: Polymyxin B\n"
     ]
    },
    {
     "name": "stdout",
     "output_type": "stream",
     "text": [
      "http://purl.bioontology.org/ontology/MESH/D011112,Polymyxin B,http://purl.uniprot.org/taxonomy/9606\n"
     ]
    },
    {
     "name": "stderr",
     "output_type": "stream",
     "text": [
      "Final URL list [\"http://purl.bioontology.org/ontology/MESH/D016328\"]\n",
      "\n",
      "processing http://purl.bioontology.org/ontology/MESH/D016328\n",
      "NCBO\n",
      "ontology MESH\n",
      "term: NF-kappa B\n"
     ]
    },
    {
     "name": "stdout",
     "output_type": "stream",
     "text": [
      "http://purl.bioontology.org/ontology/MESH/D016328,NF-kappa B,http://purl.uniprot.org/taxonomy/9606\n"
     ]
    },
    {
     "name": "stderr",
     "output_type": "stream",
     "text": [
      "Final URL list [\"http://purl.bioontology.org/ontology/MESH/D011945\"]\n",
      "\n",
      "processing http://purl.bioontology.org/ontology/MESH/D011945\n",
      "NCBO\n",
      "ontology MESH\n",
      "term: Receptors, Angiotensin\n"
     ]
    },
    {
     "name": "stdout",
     "output_type": "stream",
     "text": [
      "http://purl.bioontology.org/ontology/MESH/D011945,Receptors, Angiotensin,http://purl.uniprot.org/taxonomy/9606\n"
     ]
    },
    {
     "name": "stderr",
     "output_type": "stream",
     "text": [
      "Final URL list [\"http://purl.bioontology.org/ontology/MESH/D005945\"]\n",
      "\n",
      "processing http://purl.bioontology.org/ontology/MESH/D005945\n",
      "NCBO\n",
      "ontology MESH\n",
      "term: Glutamine-Fructose-6-Phosphate Transaminase (Isomerizing)\n"
     ]
    },
    {
     "name": "stdout",
     "output_type": "stream",
     "text": [
      "http://purl.bioontology.org/ontology/MESH/D005945,Glutamine-Fructose-6-Phosphate Transaminase (Isomerizing),http://purl.uniprot.org/taxonomy/9606\n"
     ]
    },
    {
     "name": "stderr",
     "output_type": "stream",
     "text": [
      "Final URL list [\"http://purl.bioontology.org/ontology/MESH/D003576\"]\n",
      "\n",
      "processing http://purl.bioontology.org/ontology/MESH/D003576\n",
      "NCBO\n",
      "ontology MESH\n",
      "term: Electron Transport Complex IV\n"
     ]
    },
    {
     "name": "stdout",
     "output_type": "stream",
     "text": [
      "http://purl.bioontology.org/ontology/MESH/D003576,Electron Transport Complex IV,http://purl.uniprot.org/taxonomy/9606\n"
     ]
    },
    {
     "name": "stderr",
     "output_type": "stream",
     "text": [
      "Final URL list [\"http://purl.bioontology.org/ontology/MESH/D042967\"]\n",
      "\n",
      "processing http://purl.bioontology.org/ontology/MESH/D042967\n",
      "NCBO\n",
      "ontology MESH\n",
      "term: Electron Transport Complex I\n"
     ]
    },
    {
     "name": "stdout",
     "output_type": "stream",
     "text": [
      "http://purl.bioontology.org/ontology/MESH/D042967,Electron Transport Complex I,http://purl.uniprot.org/taxonomy/9606\n"
     ]
    },
    {
     "name": "stderr",
     "output_type": "stream",
     "text": [
      "Final URL list [\"http://purl.bioontology.org/ontology/MESH/D042963\"]\n",
      "\n",
      "processing http://purl.bioontology.org/ontology/MESH/D042963\n",
      "NCBO\n",
      "ontology MESH\n",
      "term: Electron Transport Complex II\n"
     ]
    },
    {
     "name": "stdout",
     "output_type": "stream",
     "text": [
      "http://purl.bioontology.org/ontology/MESH/D042963,Electron Transport Complex II,http://purl.uniprot.org/taxonomy/9606\n"
     ]
    },
    {
     "name": "stderr",
     "output_type": "stream",
     "text": [
      "Final URL list [\"http://purl.bioontology.org/ontology/MESH/D030481\"]\n",
      "\n",
      "processing http://purl.bioontology.org/ontology/MESH/D030481\n",
      "NCBO\n",
      "ontology MESH\n",
      "term: Pyruvate Dehydrogenase (Lipoamide)\n"
     ]
    },
    {
     "name": "stdout",
     "output_type": "stream",
     "text": [
      "http://purl.bioontology.org/ontology/MESH/D030481,Pyruvate Dehydrogenase (Lipoamide),http://purl.uniprot.org/taxonomy/9606\n"
     ]
    },
    {
     "name": "stderr",
     "output_type": "stream",
     "text": [
      "Final URL list [\"http://purl.bioontology.org/ontology/MESH/C043426\"]\n",
      "\n",
      "processing http://purl.bioontology.org/ontology/MESH/C043426\n",
      "NCBO\n",
      "ontology MESH\n",
      "term: inner membrane protein, E coli\n"
     ]
    },
    {
     "name": "stdout",
     "output_type": "stream",
     "text": [
      "http://purl.bioontology.org/ontology/MESH/C043426,inner membrane protein, E coli,http://purl.uniprot.org/taxonomy/9606\n"
     ]
    },
    {
     "name": "stderr",
     "output_type": "stream",
     "text": [
      "Final URL list [\"http://purl.bioontology.org/ontology/MESH/D014450\"]\n",
      "\n",
      "processing http://purl.bioontology.org/ontology/MESH/D014450\n",
      "NCBO\n",
      "ontology MESH\n",
      "term: Electron Transport Complex III\n"
     ]
    },
    {
     "name": "stdout",
     "output_type": "stream",
     "text": [
      "http://purl.bioontology.org/ontology/MESH/D014450,Electron Transport Complex III,http://purl.uniprot.org/taxonomy/9606\n"
     ]
    },
    {
     "name": "stderr",
     "output_type": "stream",
     "text": [
      "Final URL list [\"http://purl.bioontology.org/ontology/MESH/D006680\"]\n",
      "\n",
      "processing http://purl.bioontology.org/ontology/MESH/D006680\n",
      "NCBO\n",
      "ontology MESH\n",
      "term: HLA Antigens\n"
     ]
    },
    {
     "name": "stdout",
     "output_type": "stream",
     "text": [
      "http://purl.bioontology.org/ontology/MESH/D006680,HLA Antigens,http://purl.uniprot.org/taxonomy/9606\n"
     ]
    },
    {
     "name": "stderr",
     "output_type": "stream",
     "text": [
      "Final URL list [\"http://purl.bioontology.org/ontology/MESH/D000074183\"]\n",
      "\n",
      "processing http://purl.bioontology.org/ontology/MESH/D000074183\n",
      "NCBO\n",
      "ontology MESH\n",
      "term: ATPases Associated with Diverse Cellular Activities\n"
     ]
    },
    {
     "name": "stdout",
     "output_type": "stream",
     "text": [
      "http://purl.bioontology.org/ontology/MESH/D000074183,ATPases Associated with Diverse Cellular Activities,http://purl.uniprot.org/taxonomy/9606\n"
     ]
    },
    {
     "name": "stderr",
     "output_type": "stream",
     "text": [
      "Final URL list [\"http://purl.bioontology.org/ontology/MESH/D000074401\"]\n",
      "\n",
      "processing http://purl.bioontology.org/ontology/MESH/D000074401\n",
      "NCBO\n",
      "ontology MESH\n",
      "term: Peroxins\n"
     ]
    },
    {
     "name": "stdout",
     "output_type": "stream",
     "text": [
      "http://purl.bioontology.org/ontology/MESH/D000074401,Peroxins,http://purl.uniprot.org/taxonomy/9606\n"
     ]
    },
    {
     "name": "stderr",
     "output_type": "stream",
     "text": [
      "Final URL list [\"http://purl.bioontology.org/ontology/MESH/C111808\"]\n",
      "\n",
      "processing http://purl.bioontology.org/ontology/MESH/C111808\n",
      "NCBO\n",
      "ontology MESH\n",
      "term: PEX1 protein, human\n"
     ]
    },
    {
     "name": "stdout",
     "output_type": "stream",
     "text": [
      "http://purl.bioontology.org/ontology/MESH/C111808,PEX1 protein, human,http://purl.uniprot.org/taxonomy/9606\n"
     ]
    },
    {
     "name": "stderr",
     "output_type": "stream",
     "text": [
      "Final URL list [\"http://purl.bioontology.org/ontology/MESH/D000074435\"]\n",
      "\n",
      "processing http://purl.bioontology.org/ontology/MESH/D000074435\n",
      "NCBO\n",
      "ontology MESH\n",
      "term: Peroxisome-Targeting Signal 1 Receptor\n"
     ]
    },
    {
     "name": "stdout",
     "output_type": "stream",
     "text": [
      "http://purl.bioontology.org/ontology/MESH/D000074435,Peroxisome-Targeting Signal 1 Receptor,http://purl.uniprot.org/taxonomy/9606\n"
     ]
    },
    {
     "name": "stderr",
     "output_type": "stream",
     "text": [
      "Final URL list [\"http://purl.bioontology.org/ontology/MESH/D053402\"]\n",
      "\n",
      "processing http://purl.bioontology.org/ontology/MESH/D053402\n",
      "NCBO\n",
      "ontology MESH\n",
      "term: PHEX Phosphate Regulating Neutral Endopeptidase\n"
     ]
    },
    {
     "name": "stdout",
     "output_type": "stream",
     "text": [
      "http://purl.bioontology.org/ontology/MESH/D053402,PHEX Phosphate Regulating Neutral Endopeptidase,http://purl.uniprot.org/taxonomy/9606\n"
     ]
    },
    {
     "name": "stderr",
     "output_type": "stream",
     "text": [
      "Final URL list [\"http://purl.bioontology.org/ontology/MESH/D064029\"]\n",
      "\n",
      "processing http://purl.bioontology.org/ontology/MESH/D064029\n",
      "NCBO\n",
      "ontology MESH\n",
      "term: Peroxisomal Multifunctional Protein-2\n"
     ]
    },
    {
     "name": "stdout",
     "output_type": "stream",
     "text": [
      "http://purl.bioontology.org/ontology/MESH/D064029,Peroxisomal Multifunctional Protein-2,http://purl.uniprot.org/taxonomy/9606\n"
     ]
    },
    {
     "name": "stderr",
     "output_type": "stream",
     "text": [
      "Final URL list [\"http://purl.bioontology.org/ontology/MESH/D000074428\"]\n",
      "\n",
      "processing http://purl.bioontology.org/ontology/MESH/D000074428\n",
      "NCBO\n",
      "ontology MESH\n",
      "term: Peroxisomal Biogenesis Factor 2\n"
     ]
    },
    {
     "name": "stdout",
     "output_type": "stream",
     "text": [
      "http://purl.bioontology.org/ontology/MESH/D000074428,Peroxisomal Biogenesis Factor 2,http://purl.uniprot.org/taxonomy/9606\n"
     ]
    },
    {
     "name": "stderr",
     "output_type": "stream",
     "text": [
      "Final URL list [\"http://purl.bioontology.org/ontology/MESH/D000074063\"]\n",
      "\n",
      "processing http://purl.bioontology.org/ontology/MESH/D000074063\n",
      "NCBO\n",
      "ontology MESH\n",
      "term: ATP Binding Cassette Transporter, Subfamily D, Member 1\n"
     ]
    },
    {
     "name": "stdout",
     "output_type": "stream",
     "text": [
      "http://purl.bioontology.org/ontology/MESH/D000074063,ATP Binding Cassette Transporter, Subfamily D, Member 1,http://purl.uniprot.org/taxonomy/9606\n"
     ]
    },
    {
     "name": "stderr",
     "output_type": "stream",
     "text": [
      "Final URL list [\"http://purl.bioontology.org/ontology/MESH/D042962\"]\n",
      "\n",
      "processing http://purl.bioontology.org/ontology/MESH/D042962\n",
      "NCBO\n",
      "ontology MESH\n",
      "term: Acyl-CoA Oxidase\n"
     ]
    },
    {
     "name": "stdout",
     "output_type": "stream",
     "text": [
      "http://purl.bioontology.org/ontology/MESH/D042962,Acyl-CoA Oxidase,http://purl.uniprot.org/taxonomy/9606\n"
     ]
    },
    {
     "name": "stderr",
     "output_type": "stream",
     "text": [
      "Final URL list [\"http://purl.bioontology.org/ontology/MESH/D008077\"]\n",
      "\n",
      "processing http://purl.bioontology.org/ontology/MESH/D008077\n",
      "NCBO\n",
      "ontology MESH\n",
      "term: Lipoproteins, LDL\n"
     ]
    },
    {
     "name": "stdout",
     "output_type": "stream",
     "text": [
      "http://purl.bioontology.org/ontology/MESH/D008077,Lipoproteins, LDL,http://purl.uniprot.org/taxonomy/9606\n"
     ]
    },
    {
     "name": "stderr",
     "output_type": "stream",
     "text": [
      "Final URL list [\"http://purl.bioontology.org/ontology/MESH/D044942\"]\n",
      "\n",
      "processing http://purl.bioontology.org/ontology/MESH/D044942\n",
      "NCBO\n",
      "ontology MESH\n",
      "term: Acyl-CoA Dehydrogenase, Long-Chain\n"
     ]
    },
    {
     "name": "stdout",
     "output_type": "stream",
     "text": [
      "http://purl.bioontology.org/ontology/MESH/D044942,Acyl-CoA Dehydrogenase, Long-Chain,http://purl.uniprot.org/taxonomy/9606\n"
     ]
    },
    {
     "name": "stderr",
     "output_type": "stream",
     "text": [
      "Final URL list [\"http://purl.bioontology.org/ontology/MESH/D004093\"]\n",
      "\n",
      "processing http://purl.bioontology.org/ontology/MESH/D004093\n",
      "NCBO\n",
      "ontology MESH\n",
      "term: Dihydropteridine Reductase\n"
     ]
    },
    {
     "name": "stdout",
     "output_type": "stream",
     "text": [
      "http://purl.bioontology.org/ontology/MESH/D004093,Dihydropteridine Reductase,http://purl.uniprot.org/taxonomy/9606\n"
     ]
    },
    {
     "name": "stderr",
     "output_type": "stream",
     "text": [
      "Final URL list [\"http://purl.bioontology.org/ontology/MESH/C496321\"]\n",
      "\n",
      "processing http://purl.bioontology.org/ontology/MESH/C496321\n",
      "NCBO\n",
      "ontology MESH\n",
      "term: Nos1 protein, mouse\n"
     ]
    },
    {
     "name": "stdout",
     "output_type": "stream",
     "text": [
      "http://purl.bioontology.org/ontology/MESH/C496321,Nos1 protein, mouse,http://purl.uniprot.org/taxonomy/9606\n"
     ]
    },
    {
     "name": "stderr",
     "output_type": "stream",
     "text": [
      "Final URL list [\"http://purl.bioontology.org/ontology/MESH/D014445\"]\n",
      "\n",
      "processing http://purl.bioontology.org/ontology/MESH/D014445\n",
      "NCBO\n",
      "ontology MESH\n",
      "term: Tyrosine Decarboxylase\n"
     ]
    },
    {
     "name": "stdout",
     "output_type": "stream",
     "text": [
      "http://purl.bioontology.org/ontology/MESH/D014445,Tyrosine Decarboxylase,http://purl.uniprot.org/taxonomy/9606\n"
     ]
    },
    {
     "name": "stderr",
     "output_type": "stream",
     "text": [
      "Final URL list [\"http://purl.bioontology.org/ontology/MESH/D010835\"]\n",
      "\n",
      "processing http://purl.bioontology.org/ontology/MESH/D010835\n",
      "NCBO\n",
      "ontology MESH\n",
      "term: Phytohemagglutinins\n"
     ]
    },
    {
     "name": "stdout",
     "output_type": "stream",
     "text": [
      "http://purl.bioontology.org/ontology/MESH/D010835,Phytohemagglutinins,http://purl.uniprot.org/taxonomy/9606\n"
     ]
    },
    {
     "name": "stderr",
     "output_type": "stream",
     "text": [
      "Final URL list [\"http://purl.bioontology.org/ontology/MESH/D017875\"]\n",
      "\n",
      "processing http://purl.bioontology.org/ontology/MESH/D017875\n",
      "NCBO\n",
      "ontology MESH\n",
      "term: Phosphotransferases (Phosphomutases)\n"
     ]
    },
    {
     "name": "stdout",
     "output_type": "stream",
     "text": [
      "http://purl.bioontology.org/ontology/MESH/D017875,Phosphotransferases (Phosphomutases),http://purl.uniprot.org/taxonomy/9606\n"
     ]
    },
    {
     "name": "stderr",
     "output_type": "stream",
     "text": [
      "Final URL list [\"http://purl.bioontology.org/ontology/MESH/D009439\"]\n",
      "\n",
      "processing http://purl.bioontology.org/ontology/MESH/D009439\n",
      "NCBO\n",
      "ontology MESH\n",
      "term: Neuraminidase\n"
     ]
    },
    {
     "name": "stdout",
     "output_type": "stream",
     "text": [
      "http://purl.bioontology.org/ontology/MESH/D009439,Neuraminidase,http://purl.uniprot.org/taxonomy/9606\n"
     ]
    },
    {
     "name": "stderr",
     "output_type": "stream",
     "text": [
      "Final URL list [\"http://purl.bioontology.org/ontology/MESH/D061250\"]\n",
      "\n",
      "processing http://purl.bioontology.org/ontology/MESH/D061250\n",
      "NCBO\n",
      "ontology MESH\n",
      "term: Transferrins\n"
     ]
    },
    {
     "name": "stdout",
     "output_type": "stream",
     "text": [
      "http://purl.bioontology.org/ontology/MESH/D061250,Transferrins,http://purl.uniprot.org/taxonomy/9606\n"
     ]
    },
    {
     "name": "stderr",
     "output_type": "stream",
     "text": [
      "Final URL list [\"http://purl.bioontology.org/ontology/MESH/D011973\"]\n",
      "\n",
      "processing http://purl.bioontology.org/ontology/MESH/D011973\n",
      "NCBO\n",
      "ontology MESH\n",
      "term: Receptors, LDL\n"
     ]
    },
    {
     "name": "stdout",
     "output_type": "stream",
     "text": [
      "http://purl.bioontology.org/ontology/MESH/D011973,Receptors, LDL,http://purl.uniprot.org/taxonomy/9606\n"
     ]
    },
    {
     "name": "stderr",
     "output_type": "stream",
     "text": [
      "Final URL list [\"http://purl.bioontology.org/ontology/MESH/D043524\"]\n",
      "\n",
      "processing http://purl.bioontology.org/ontology/MESH/D043524\n",
      "NCBO\n",
      "ontology MESH\n",
      "term: Peptide-N4-(N-acetyl-beta-glucosaminyl) Asparagine Amidase\n"
     ]
    },
    {
     "name": "stdout",
     "output_type": "stream",
     "text": [
      "http://purl.bioontology.org/ontology/MESH/D043524,Peptide-N4-(N-acetyl-beta-glucosaminyl) Asparagine Amidase,http://purl.uniprot.org/taxonomy/9606\n"
     ]
    },
    {
     "name": "stderr",
     "output_type": "stream",
     "text": [
      "Final URL list [\"http://purl.bioontology.org/ontology/MESH/D013002\"]\n",
      "\n",
      "processing http://purl.bioontology.org/ontology/MESH/D013002\n",
      "NCBO\n",
      "ontology MESH\n",
      "term: Somatomedins\n"
     ]
    },
    {
     "name": "stdout",
     "output_type": "stream",
     "text": [
      "http://purl.bioontology.org/ontology/MESH/D013002,Somatomedins,http://purl.uniprot.org/taxonomy/9606\n"
     ]
    },
    {
     "name": "stderr",
     "output_type": "stream",
     "text": [
      "Final URL list [\"http://purl.bioontology.org/ontology/MESH/D055607\"]\n",
      "\n",
      "processing http://purl.bioontology.org/ontology/MESH/D055607\n",
      "NCBO\n",
      "ontology MESH\n",
      "term: Receptors, Natural Killer Cell\n"
     ]
    },
    {
     "name": "stdout",
     "output_type": "stream",
     "text": [
      "http://purl.bioontology.org/ontology/MESH/D055607,Receptors, Natural Killer Cell,http://purl.uniprot.org/taxonomy/9606\n"
     ]
    },
    {
     "name": "stderr",
     "output_type": "stream",
     "text": [
      "Final URL list [\"http://purl.bioontology.org/ontology/MESH/D055519\"]\n",
      "\n",
      "processing http://purl.bioontology.org/ontology/MESH/D055519\n",
      "NCBO\n",
      "ontology MESH\n",
      "term: Photoreceptors, Plant\n"
     ]
    },
    {
     "name": "stdout",
     "output_type": "stream",
     "text": [
      "http://purl.bioontology.org/ontology/MESH/D055519,Photoreceptors, Plant,http://purl.uniprot.org/taxonomy/9606\n"
     ]
    },
    {
     "name": "stderr",
     "output_type": "stream",
     "text": [
      "Final URL list [\"http://purl.bioontology.org/ontology/MESH/D065636\"]\n",
      "\n",
      "processing http://purl.bioontology.org/ontology/MESH/D065636\n",
      "NCBO\n",
      "ontology MESH\n",
      "term: Myotonin-Protein Kinase\n"
     ]
    },
    {
     "name": "stdout",
     "output_type": "stream",
     "text": [
      "http://purl.bioontology.org/ontology/MESH/D065636,Myotonin-Protein Kinase,http://purl.uniprot.org/taxonomy/9606\n"
     ]
    },
    {
     "name": "stderr",
     "output_type": "stream",
     "text": [
      "Final URL list [\"http://purl.bioontology.org/ontology/MESH/D000067879\"]\n",
      "\n",
      "processing http://purl.bioontology.org/ontology/MESH/D000067879\n",
      "NCBO\n",
      "ontology MESH\n",
      "term: CELF1 Protein\n"
     ]
    },
    {
     "name": "stdout",
     "output_type": "stream",
     "text": [
      "http://purl.bioontology.org/ontology/MESH/D000067879,CELF1 Protein,http://purl.uniprot.org/taxonomy/9606\n"
     ]
    },
    {
     "name": "stderr",
     "output_type": "stream",
     "text": [
      "Final URL list [\"http://purl.bioontology.org/ontology/MESH/D000072260\"]\n",
      "\n",
      "processing http://purl.bioontology.org/ontology/MESH/D000072260\n",
      "NCBO\n",
      "ontology MESH\n",
      "term: RNA Splicing Factors\n"
     ]
    },
    {
     "name": "stdout",
     "output_type": "stream",
     "text": [
      "http://purl.bioontology.org/ontology/MESH/D000072260,RNA Splicing Factors,http://purl.uniprot.org/taxonomy/9606\n"
     ]
    },
    {
     "name": "stderr",
     "output_type": "stream",
     "text": [
      "Final URL list [\"http://purl.bioontology.org/ontology/MESH/D011972\"]\n",
      "\n",
      "processing http://purl.bioontology.org/ontology/MESH/D011972\n",
      "NCBO\n",
      "ontology MESH\n",
      "term: Receptor, Insulin\n"
     ]
    },
    {
     "name": "stdout",
     "output_type": "stream",
     "text": [
      "http://purl.bioontology.org/ontology/MESH/D011972,Receptor, Insulin,http://purl.uniprot.org/taxonomy/9606\n"
     ]
    },
    {
     "name": "stderr",
     "output_type": "stream",
     "text": [
      "Final URL list [\"http://purl.bioontology.org/ontology/MESH/D016875\"]\n",
      "\n",
      "processing http://purl.bioontology.org/ontology/MESH/D016875\n",
      "NCBO\n",
      "ontology MESH\n",
      "term: tau Proteins\n"
     ]
    },
    {
     "name": "stdout",
     "output_type": "stream",
     "text": [
      "http://purl.bioontology.org/ontology/MESH/D016875,tau Proteins,http://purl.uniprot.org/taxonomy/9606\n"
     ]
    },
    {
     "name": "stderr",
     "output_type": "stream",
     "text": [
      "Final URL list [\"http://purl.bioontology.org/ontology/MESH/D000067878\"]\n",
      "\n",
      "processing http://purl.bioontology.org/ontology/MESH/D000067878\n",
      "NCBO\n",
      "ontology MESH\n",
      "term: CELF Proteins\n"
     ]
    },
    {
     "name": "stdout",
     "output_type": "stream",
     "text": [
      "http://purl.bioontology.org/ontology/MESH/D000067878,CELF Proteins,http://purl.uniprot.org/taxonomy/9606\n"
     ]
    },
    {
     "name": "stderr",
     "output_type": "stream",
     "text": [
      "Final URL list [\"http://purl.bioontology.org/ontology/MESH/D001056\"]\n",
      "\n",
      "processing http://purl.bioontology.org/ontology/MESH/D001056\n",
      "NCBO\n",
      "ontology MESH\n",
      "term: Apolipoproteins C\n"
     ]
    },
    {
     "name": "stdout",
     "output_type": "stream",
     "text": [
      "http://purl.bioontology.org/ontology/MESH/D001056,Apolipoproteins C,http://purl.uniprot.org/taxonomy/9606\n"
     ]
    },
    {
     "name": "stderr",
     "output_type": "stream",
     "text": [
      "Final URL list [\"http://purl.bioontology.org/ontology/MESH/D017570\"]\n",
      "\n",
      "processing http://purl.bioontology.org/ontology/MESH/D017570\n",
      "NCBO\n",
      "ontology MESH\n",
      "term: MyoD Protein\n"
     ]
    },
    {
     "name": "stdout",
     "output_type": "stream",
     "text": [
      "http://purl.bioontology.org/ontology/MESH/D017570,MyoD Protein,http://purl.uniprot.org/taxonomy/9606\n"
     ]
    },
    {
     "name": "stderr",
     "output_type": "stream",
     "text": [
      "Final URL list [\"http://purl.bioontology.org/ontology/MESH/D011734\"]\n",
      "\n",
      "processing http://purl.bioontology.org/ontology/MESH/D011734\n",
      "NCBO\n",
      "ontology MESH\n",
      "term: Pyridoxaminephosphate Oxidase\n"
     ]
    },
    {
     "name": "stdout",
     "output_type": "stream",
     "text": [
      "http://purl.bioontology.org/ontology/MESH/D011734,Pyridoxaminephosphate Oxidase,http://purl.uniprot.org/taxonomy/9606\n"
     ]
    },
    {
     "name": "stderr",
     "output_type": "stream",
     "text": [
      "Final URL list [\"http://purl.bioontology.org/ontology/MESH/C041276\"]\n",
      "\n",
      "processing http://purl.bioontology.org/ontology/MESH/C041276\n",
      "NCBO\n",
      "ontology MESH\n",
      "term: pyridoxal 5'-phosphate-binding protein, human\n"
     ]
    },
    {
     "name": "stdout",
     "output_type": "stream",
     "text": [
      "http://purl.bioontology.org/ontology/MESH/C041276,pyridoxal 5'-phosphate-binding protein, human,http://purl.uniprot.org/taxonomy/9606\n"
     ]
    },
    {
     "name": "stderr",
     "output_type": "stream",
     "text": [
      "Final URL list [\"http://purl.bioontology.org/ontology/MESH/D051938\"]\n",
      "\n",
      "processing http://purl.bioontology.org/ontology/MESH/D051938\n",
      "NCBO\n",
      "ontology MESH\n",
      "term: Munc18 Proteins\n"
     ]
    },
    {
     "name": "stdout",
     "output_type": "stream",
     "text": [
      "http://purl.bioontology.org/ontology/MESH/D051938,Munc18 Proteins,http://purl.uniprot.org/taxonomy/9606\n"
     ]
    },
    {
     "name": "stderr",
     "output_type": "stream",
     "text": [
      "Final URL list [\"http://purl.bioontology.org/ontology/MESH/D051658\"]\n",
      "\n",
      "processing http://purl.bioontology.org/ontology/MESH/D051658\n",
      "NCBO\n",
      "ontology MESH\n",
      "term: KCNQ2 Potassium Channel\n"
     ]
    },
    {
     "name": "stdout",
     "output_type": "stream",
     "text": [
      "http://purl.bioontology.org/ontology/MESH/D051658,KCNQ2 Potassium Channel,http://purl.uniprot.org/taxonomy/9606\n"
     ]
    },
    {
     "name": "stderr",
     "output_type": "stream",
     "text": [
      "Final URL list [\"http://purl.bioontology.org/ontology/MESH/D008983\"]\n",
      "\n",
      "processing http://purl.bioontology.org/ontology/MESH/D008983\n",
      "NCBO\n",
      "ontology MESH\n",
      "term: Molybdoferredoxin\n"
     ]
    },
    {
     "name": "stdout",
     "output_type": "stream",
     "text": [
      "http://purl.bioontology.org/ontology/MESH/D008983,Molybdoferredoxin,http://purl.uniprot.org/taxonomy/9606\n"
     ]
    },
    {
     "name": "stderr",
     "output_type": "stream",
     "text": [
      "Final URL list [\"http://purl.bioontology.org/ontology/MESH/D013762\"]\n",
      "\n",
      "processing http://purl.bioontology.org/ontology/MESH/D013762\n",
      "NCBO\n",
      "ontology MESH\n",
      "term: Tetrahydrofolate Dehydrogenase\n"
     ]
    },
    {
     "name": "stdout",
     "output_type": "stream",
     "text": [
      "http://purl.bioontology.org/ontology/MESH/D013762,Tetrahydrofolate Dehydrogenase,http://purl.uniprot.org/taxonomy/9606\n"
     ]
    },
    {
     "name": "stderr",
     "output_type": "stream",
     "text": [
      "Final URL list [\"http://purl.bioontology.org/ontology/MESH/D062551\"]\n",
      "\n",
      "processing http://purl.bioontology.org/ontology/MESH/D062551\n",
      "NCBO\n",
      "ontology MESH\n",
      "term: NAV1.2 Voltage-Gated Sodium Channel\n"
     ]
    },
    {
     "name": "stdout",
     "output_type": "stream",
     "text": [
      "http://purl.bioontology.org/ontology/MESH/D062551,NAV1.2 Voltage-Gated Sodium Channel,http://purl.uniprot.org/taxonomy/9606\n"
     ]
    },
    {
     "name": "stderr",
     "output_type": "stream",
     "text": [
      "Final URL list [\"http://purl.bioontology.org/ontology/MESH/D058979\"]\n",
      "\n",
      "processing http://purl.bioontology.org/ontology/MESH/D058979\n",
      "NCBO\n",
      "ontology MESH\n",
      "term: Proton-Coupled Folate Transporter\n"
     ]
    },
    {
     "name": "stdout",
     "output_type": "stream",
     "text": [
      "http://purl.bioontology.org/ontology/MESH/D058979,Proton-Coupled Folate Transporter,http://purl.uniprot.org/taxonomy/9606\n"
     ]
    },
    {
     "name": "stderr",
     "output_type": "stream",
     "text": [
      "Final URL list [\"http://purl.bioontology.org/ontology/MESH/D026923\"]\n",
      "\n",
      "processing http://purl.bioontology.org/ontology/MESH/D026923\n",
      "NCBO\n",
      "ontology MESH\n",
      "term: Amino Acid Transport Systems, Basic\n"
     ]
    },
    {
     "name": "stdout",
     "output_type": "stream",
     "text": [
      "http://purl.bioontology.org/ontology/MESH/D026923,Amino Acid Transport Systems, Basic,http://purl.uniprot.org/taxonomy/9606\n"
     ]
    },
    {
     "name": "stderr",
     "output_type": "stream",
     "text": [
      "Final URL list [\"http://purl.bioontology.org/ontology/MESH/D000091363\"]\n",
      "\n",
      "processing http://purl.bioontology.org/ontology/MESH/D000091363\n",
      "NCBO\n",
      "ontology MESH\n",
      "term: Protocadherins\n"
     ]
    },
    {
     "name": "stdout",
     "output_type": "stream",
     "text": [
      "http://purl.bioontology.org/ontology/MESH/D000091363,Protocadherins,http://purl.uniprot.org/taxonomy/9606\n"
     ]
    },
    {
     "name": "stderr",
     "output_type": "stream",
     "text": [
      "Final URL list [\"http://purl.bioontology.org/ontology/MESH/D000067699\"]\n",
      "\n",
      "processing http://purl.bioontology.org/ontology/MESH/D000067699\n",
      "NCBO\n",
      "ontology MESH\n",
      "term: Ataxin-3\n"
     ]
    },
    {
     "name": "stdout",
     "output_type": "stream",
     "text": [
      "http://purl.bioontology.org/ontology/MESH/D000067699,Ataxin-3,http://purl.uniprot.org/taxonomy/9606\n"
     ]
    },
    {
     "name": "stderr",
     "output_type": "stream",
     "text": [
      "Final URL list [\"http://purl.bioontology.org/ontology/MESH/D000067528\"]\n",
      "\n",
      "processing http://purl.bioontology.org/ontology/MESH/D000067528\n",
      "NCBO\n",
      "ontology MESH\n",
      "term: Ataxins\n"
     ]
    },
    {
     "name": "stdout",
     "output_type": "stream",
     "text": [
      "http://purl.bioontology.org/ontology/MESH/D000067528,Ataxins,http://purl.uniprot.org/taxonomy/9606\n"
     ]
    },
    {
     "name": "stderr",
     "output_type": "stream",
     "text": [
      "Final URL list [\"http://purl.bioontology.org/ontology/MESH/D054298\"]\n",
      "\n",
      "processing http://purl.bioontology.org/ontology/MESH/D054298\n",
      "NCBO\n",
      "ontology MESH\n",
      "term: Human Immunodeficiency Virus Proteins\n"
     ]
    },
    {
     "name": "stdout",
     "output_type": "stream",
     "text": [
      "http://purl.bioontology.org/ontology/MESH/D054298,Human Immunodeficiency Virus Proteins,http://purl.uniprot.org/taxonomy/9606\n"
     ]
    },
    {
     "name": "stderr",
     "output_type": "stream",
     "text": [
      "Final URL list [\"http://purl.bioontology.org/ontology/MESH/C000593752\"]\n",
      "\n",
      "processing http://purl.bioontology.org/ontology/MESH/C000593752\n",
      "NCBO\n",
      "ontology MESH\n",
      "term: ATXN2 protein, human\n"
     ]
    },
    {
     "name": "stdout",
     "output_type": "stream",
     "text": [
      "http://purl.bioontology.org/ontology/MESH/C000593752,ATXN2 protein, human,http://purl.uniprot.org/taxonomy/9606\n"
     ]
    },
    {
     "name": "stderr",
     "output_type": "stream",
     "text": [
      "Final URL list [\"http://purl.bioontology.org/ontology/MESH/D050956\"]\n",
      "\n",
      "processing http://purl.bioontology.org/ontology/MESH/D050956\n",
      "NCBO\n",
      "ontology MESH\n",
      "term: HSP40 Heat-Shock Proteins\n"
     ]
    },
    {
     "name": "stdout",
     "output_type": "stream",
     "text": [
      "http://purl.bioontology.org/ontology/MESH/D050956,HSP40 Heat-Shock Proteins,http://purl.uniprot.org/taxonomy/9606\n"
     ]
    },
    {
     "name": "stderr",
     "output_type": "stream",
     "text": [
      "Final URL list [\"http://purl.bioontology.org/ontology/MESH/D050770\"]\n",
      "\n",
      "processing http://purl.bioontology.org/ontology/MESH/D050770\n",
      "NCBO\n",
      "ontology MESH\n",
      "term: Glutaryl-CoA Dehydrogenase\n"
     ]
    },
    {
     "name": "stdout",
     "output_type": "stream",
     "text": [
      "http://purl.bioontology.org/ontology/MESH/D050770,Glutaryl-CoA Dehydrogenase,http://purl.uniprot.org/taxonomy/9606\n"
     ]
    },
    {
     "name": "stderr",
     "output_type": "stream",
     "text": [
      "Final URL list [\"http://purl.bioontology.org/ontology/MESH/D014674\"]\n",
      "\n",
      "processing http://purl.bioontology.org/ontology/MESH/D014674\n",
      "NCBO\n",
      "ontology MESH\n",
      "term: Plant Proteins, Dietary\n"
     ]
    },
    {
     "name": "stdout",
     "output_type": "stream",
     "text": [
      "http://purl.bioontology.org/ontology/MESH/D014674,Plant Proteins, Dietary,http://purl.uniprot.org/taxonomy/9606\n"
     ]
    },
    {
     "name": "stderr",
     "output_type": "stream",
     "text": [
      "Final URL list [\"http://purl.bioontology.org/ontology/MESH/C108186\"]\n",
      "\n",
      "processing http://purl.bioontology.org/ontology/MESH/C108186\n",
      "NCBO\n",
      "ontology MESH\n",
      "term: gibberellin 3beta-hydroxylase\n"
     ]
    },
    {
     "name": "stdout",
     "output_type": "stream",
     "text": [
      "http://purl.bioontology.org/ontology/MESH/C108186,gibberellin 3beta-hydroxylase,http://purl.uniprot.org/taxonomy/9606\n"
     ]
    },
    {
     "name": "stderr",
     "output_type": "stream",
     "text": [
      "Final URL list [\"http://purl.bioontology.org/ontology/MESH/D042964\"]\n",
      "\n",
      "processing http://purl.bioontology.org/ontology/MESH/D042964\n",
      "NCBO\n",
      "ontology MESH\n",
      "term: Acyl-CoA Dehydrogenase\n"
     ]
    },
    {
     "name": "stdout",
     "output_type": "stream",
     "text": [
      "http://purl.bioontology.org/ontology/MESH/D042964,Acyl-CoA Dehydrogenase,http://purl.uniprot.org/taxonomy/9606\n"
     ]
    },
    {
     "name": "stderr",
     "output_type": "stream",
     "text": [
      "Final URL list [\"http://purl.bioontology.org/ontology/MESH/C077485\"]\n",
      "\n",
      "processing http://purl.bioontology.org/ontology/MESH/C077485\n",
      "NCBO\n",
      "ontology MESH\n",
      "term: GT-1a protein, Nicotiana tabacum\n"
     ]
    },
    {
     "name": "stdout",
     "output_type": "stream",
     "text": [
      "http://purl.bioontology.org/ontology/MESH/C077485,GT-1a protein, Nicotiana tabacum,http://purl.uniprot.org/taxonomy/9606\n"
     ]
    },
    {
     "name": "stderr",
     "output_type": "stream",
     "text": [
      "Final URL list [\"http://purl.bioontology.org/ontology/MESH/D002772\"]\n",
      "\n",
      "processing http://purl.bioontology.org/ontology/MESH/D002772\n",
      "NCBO\n",
      "ontology MESH\n",
      "term: Cholera Toxin\n"
     ]
    },
    {
     "name": "stdout",
     "output_type": "stream",
     "text": [
      "http://purl.bioontology.org/ontology/MESH/D002772,Cholera Toxin,http://purl.uniprot.org/taxonomy/9606\n",
      "done mesh\n"
     ]
    }
   ],
   "source": [
    "# For mesh, we will do an OBO lookup on each one\n",
    "\n",
    "OUTFILE = \"./maps/2025-biovista-mesh.map\".freeze\n",
    "out = File.open(OUTFILE, \"w\")\n",
    "\n",
    "mesh.each_key do |m|\n",
    "  uri = \"http://purl.bioontology.org/ontology/MESH/#{m}\"\n",
    "  term = ontology_annotations(uri: uri )\n",
    "  puts \"#{uri},#{term},http://purl.uniprot.org/taxonomy/9606\"\n",
    "  out.write CSV.generate_line([uri,term,\"http://purl.uniprot.org/taxonomy/9606\"])\n",
    "end\n",
    "\n",
    "puts \"done mesh\""
   ]
  },
  {
   "cell_type": "code",
   "execution_count": null,
   "id": "73252028",
   "metadata": {},
   "outputs": [],
   "source": []
  }
 ],
 "metadata": {
  "kernelspec": {
   "display_name": "Ruby 3.0.0",
   "language": "ruby",
   "name": "ruby"
  },
  "language_info": {
   "file_extension": ".rb",
   "mimetype": "application/x-ruby",
   "name": "ruby",
   "version": "3.0.0"
  }
 },
 "nbformat": 4,
 "nbformat_minor": 5
}
