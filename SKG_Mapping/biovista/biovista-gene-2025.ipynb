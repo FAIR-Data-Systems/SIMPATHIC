{
 "cells": [
  {
   "cell_type": "code",
   "execution_count": 2,
   "id": "9c69aca2",
   "metadata": {},
   "outputs": [
    {
     "name": "stdout",
     "output_type": "stream",
     "text": [
      "biovistakg-2025.tsv\n"
     ]
    }
   ],
   "source": [
    "puts `ls /tmp/biovista`\n"
   ]
  },
  {
   "cell_type": "code",
   "execution_count": 8,
   "id": "46c9346b",
   "metadata": {},
   "outputs": [
    {
     "name": "stderr",
     "output_type": "stream",
     "text": [
      "(irb):6: warning: already initialized constant Object::CSVFILE\n",
      "(irb):6: warning: previous definition of CSVFILE was here\n",
      "(irb):7: warning: already initialized constant Object::COLUMN\n",
      "(irb):7: warning: previous definition of COLUMN was here\n",
      "(irb):8: warning: already initialized constant Object::OUTPUT\n",
      "(irb):8: warning: previous definition of OUTPUT was here\n"
     ]
    },
    {
     "data": {
      "text/plain": [
       "\"./maps/2025-biovista-genes.map\""
      ]
     },
     "execution_count": 8,
     "metadata": {},
     "output_type": "execute_result"
    }
   ],
   "source": [
    "require 'json'\n",
    "require 'rest-client'\n",
    "require '../OBO_Lookup/obo.rb'\n",
    "require 'linkeddata'\n",
    "require 'sparql/client'\n",
    "\n",
    "CSVFILE = \"/tmp/biovista/biovistakg-2025.tsv\".freeze\n",
    "COLUMN = 0\n",
    "OUTPUT = \"./maps/2025-biovista-genes.map\".freeze"
   ]
  },
  {
   "cell_type": "code",
   "execution_count": 4,
   "id": "21e34242",
   "metadata": {},
   "outputs": [
    {
     "name": "stdout",
     "output_type": "stream",
     "text": [
      "\n"
     ]
    }
   ],
   "source": [
    "genequery = \"\n",
    "PREFIX xsd: <http://www.w3.org/2001/XMLSchema#>\n",
    "PREFIX uniprotkb: <http://purl.uniprot.org/uniprot/>\n",
    "PREFIX taxon: <http://purl.uniprot.org/taxonomy/>\n",
    "PREFIX rdfs: <http://www.w3.org/2000/01/rdf-schema#>\n",
    "PREFIX rdf: <http://www.w3.org/1999/02/22-rdf-syntax-ns#>\n",
    "PREFIX skos: <http://www.w3.org/2004/02/skos/core#>\n",
    "PREFIX up: <http://purl.uniprot.org/core/>\n",
    "#SELECT ?protein ?fullName ?prefLabel ?recommended ?gene\n",
    "SELECT distinct ?protein ?recommended_full ?pref ?alt\n",
    "WHERE\n",
    "{\n",
    "        ?protein a up:Protein .\n",
    "        ?protein up:reviewed true .\n",
    "#  \t\t?protein rdfs:seeAlso ?other .\n",
    "#  \t\t?other rdfs:comment ?alt_name .\n",
    "  \t\t?protein up:organism taxon:9606 .\n",
    "  \t\t?protein up:recommendedName ?rname .\n",
    "  \t\t?rname up:fullName ?recommended_full .\n",
    "\t\t?protein up:encodedBy ?gene .\n",
    "  \t\t?gene skos:prefLabel ?pref .\n",
    "  \t\t?gene skos:altLabel ?alt .  \n",
    "        FILTER (  lcase(str(?pref)) =  lcase('|||LABEL|||') || lcase(str(?alt)) = lcase('|||LABEL|||'))  \n",
    "}\"\n",
    "puts"
   ]
  },
  {
   "cell_type": "code",
   "execution_count": 5,
   "id": "db1bf78b",
   "metadata": {},
   "outputs": [
    {
     "name": "stdout",
     "output_type": "stream",
     "text": [
      "\n"
     ]
    }
   ],
   "source": [
    "labelquery = \"\n",
    "PREFIX xsd: <http://www.w3.org/2001/XMLSchema#>\n",
    "PREFIX uniprotkb: <http://purl.uniprot.org/uniprot/>\n",
    "PREFIX taxon: <http://purl.uniprot.org/taxonomy/>\n",
    "PREFIX rdfs: <http://www.w3.org/2000/01/rdf-schema#>\n",
    "PREFIX rdf: <http://www.w3.org/1999/02/22-rdf-syntax-ns#>\n",
    "PREFIX skos: <http://www.w3.org/2004/02/skos/core#>\n",
    "PREFIX up: <http://purl.uniprot.org/core/>\n",
    "#SELECT ?protein ?fullName ?prefLabel ?recommended ?gene\n",
    "SELECT distinct ?protein ?recommended_full ?pref ?alt\n",
    "WHERE\n",
    "{\n",
    "        ?protein a up:Protein .\n",
    "        ?protein up:reviewed true .\n",
    "#  \t\t?protein rdfs:seeAlso ?other .\n",
    "#  \t\t?other rdfs:comment ?alt_name .\n",
    "  \t\t?protein up:organism taxon:9606 .\n",
    "  \t\t?protein up:recommendedName ?rname .\n",
    "  \t\t?rname up:fullName ?recommended_full .\n",
    "\t\t?protein up:encodedBy ?gene .\n",
    "  \t\t?gene skos:prefLabel ?pref .\n",
    "  \t\t?gene skos:altLabel ?alt .  \n",
    "  \t\tFILTER CONTAINS(lcase(str(?recommended_full)), lcase('|||LABEL|||'))\n",
    "  \n",
    "}\"\n",
    "puts\n"
   ]
  },
  {
   "cell_type": "code",
   "execution_count": 10,
   "id": "1e71e250",
   "metadata": {},
   "outputs": [
    {
     "name": "stdout",
     "output_type": "stream",
     "text": [
      "type_1\n",
      "Disease\n",
      "Pathway\n",
      "Drug\n",
      "Human Phenotype\n",
      "Gene\n"
     ]
    }
   ],
   "source": [
    "types = {}\n",
    "File.readlines(CSVFILE, chomp: true).each do |line|\n",
    "  row = line.split(\"\\t\")\n",
    "  \n",
    "  types[row[2]] = 1\n",
    "end\n",
    "puts \"left side\"\n",
    "puts types.keys\n",
    "  \n"
   ]
  },
  {
   "cell_type": "code",
   "execution_count": 11,
   "id": "7dd95a9c",
   "metadata": {},
   "outputs": [
    {
     "name": "stdout",
     "output_type": "stream",
     "text": [
      "right side\n",
      "type_2\n",
      "Human Phenotype\n",
      "Gene\n",
      "Pathway\n",
      "Drug\n"
     ]
    }
   ],
   "source": [
    "types = {}\n",
    "File.readlines(CSVFILE, chomp: true).each do |line|\n",
    "  row = line.split(\"\\t\")\n",
    "  \n",
    "  types[row[6]] = 1\n",
    "end\n",
    "puts \"right side\"\n",
    "puts types.keys\n",
    "  \n"
   ]
  },
  {
   "cell_type": "code",
   "execution_count": 12,
   "id": "122b5848",
   "metadata": {},
   "outputs": [
    {
     "name": "stdout",
     "output_type": "stream",
     "text": [
      "Pairs\n",
      "type_1 type_2\n",
      "Disease Human Phenotype\n",
      "Disease Gene\n",
      "Disease Pathway\n",
      "Disease Drug\n",
      "Pathway Human Phenotype\n",
      "Pathway Gene\n",
      "Pathway Pathway\n",
      "Pathway Drug\n",
      "Drug Drug\n",
      "Drug Gene\n",
      "Drug Human Phenotype\n",
      "Human Phenotype Human Phenotype\n",
      "Human Phenotype Gene\n",
      "Gene Gene\n"
     ]
    }
   ],
   "source": [
    "types = {}\n",
    "File.readlines(CSVFILE, chomp: true).each do |line|\n",
    "  row = line.split(\"\\t\")\n",
    "  \n",
    "  types[\"#{row[2]} #{row[6]}\"] = 1\n",
    "end\n",
    "puts \"Pairs\"\n",
    "puts types.keys\n",
    "  \n"
   ]
  },
  {
   "cell_type": "code",
   "execution_count": null,
   "id": "5dfc3ca5",
   "metadata": {},
   "outputs": [],
   "source": [
    "@seen = {}\n",
    "\n",
    "out = File.open(OUTPUT, \"w\");\n",
    "\n",
    "File.readlines(CSVFILE, chomp: true).each do |line|\n",
    "  row = line.split(\"\\t\")\n",
    "  next unless row[COLUMN + 1] == \"Gene\"\n",
    "  value = row[COLUMN].strip\n",
    "\n",
    "  next if @seen[value] # don't hammer UniProt :-)\n",
    "  \n",
    "  warn \"looking for #{value}\"\n",
    "  if value.empty?\n",
    "    warn \"no value found in the column\"\n",
    "    next\n",
    "  end\n",
    "  \n",
    "  sparql = SPARQL::Client.new(\"https://sparql.uniprot.org/sparql/\")\n",
    "  \n",
    "  if value.length <= 8\n",
    "    warn \"gene name #{value}\"\n",
    "    result = nil\n",
    "    retry_attempts = 1\n",
    "    begin\n",
    "#       puts genequery.gsub(\"|||LABEL|||\", value)\n",
    "#       abort\n",
    "      result = sparql.query(genequery.gsub(\"|||LABEL|||\", value))\n",
    "#       puts result.inspect\n",
    "    rescue \n",
    "      retry_attempts += 1\n",
    "      if retry_attempts < 10\n",
    "        retry\n",
    "      else\n",
    "        puts \"Timeout error\"\n",
    "        abort\n",
    "      end\n",
    "    end\n",
    "    if result.first\n",
    "      res = result.first  # first to get the recommended label\n",
    "      puts \"#{res[\"pref\"]}, #{res[\"protein\"]}, #{res[\"recommended_full\"]}\"\n",
    "      out.write \"#{res[\"pref\"]}, #{res[\"protein\"]}, #{res[\"recommended_full\"]}\\n\"\n",
    "\n",
    "      result.each do |res|\n",
    "        if res[\"alt\"]\n",
    "          puts \"#{res[\"alt\"]}, #{res[\"protein\"]}, #{res[\"recommended_full\"]}\"\n",
    "          out.write \"#{res[\"alt\"]}, #{res[\"protein\"]}, #{res[\"recommended_full\"]}\\n\"\n",
    "        end\n",
    "      end\n",
    "    else\n",
    "      out.write \"No URI found for #{value}\\n\"\n",
    "    end\n",
    "\n",
    "  else # label ? 8 so assume it is a functional name\n",
    "    warn \"function name #{value}\"      \n",
    "    retry_attempts = 1\n",
    "    result = nil\n",
    "    begin\n",
    "#       puts labelquery.gsub(\"|||LABEL|||\", value)\n",
    "#       abort\n",
    "      result = sparql.query(labelquery.gsub(\"|||LABEL|||\", value)) # label query\n",
    "#       puts result.inspect\n",
    "    rescue \n",
    "      retry_attempts += 1\n",
    "      if retry_attempts < 10\n",
    "        retry\n",
    "      else\n",
    "        puts \"Timeout error\"\n",
    "        abort\n",
    "      end\n",
    "    end\n",
    "    if result.first  # give up\n",
    "      res = result.first  # first to get the recommended label\n",
    "      puts \"#{res[\"pref\"]}, #{res[\"protein\"]}, #{res[\"recommended_full\"]}\"\n",
    "      out.write \"#{res[\"pref\"]}, #{res[\"protein\"]}, #{res[\"recommended_full\"]}\\n\"\n",
    "      result.each do |res|\n",
    "        if res[\"alt\"]\n",
    "          puts \"#{res[\"alt\"]}, #{res[\"protein\"]}, #{res[\"recommended_full\"]}\"\n",
    "          out.write \"#{res[\"alt\"]}, #{res[\"protein\"]}, #{res[\"recommended_full\"]}\\n\"\n",
    "        end\n",
    "      end\n",
    "    else\n",
    "      out.write \"No URI found for #{value}\\n\"\n",
    "    end\n",
    "  end\n",
    "\n",
    "  @seen[value] = 1\n",
    "end\n",
    "\n",
    "puts \"done\""
   ]
  }
 ],
 "metadata": {
  "kernelspec": {
   "display_name": "Ruby 3.0.0",
   "language": "ruby",
   "name": "ruby"
  },
  "language_info": {
   "file_extension": ".rb",
   "mimetype": "application/x-ruby",
   "name": "ruby",
   "version": "3.0.0"
  }
 },
 "nbformat": 4,
 "nbformat_minor": 5
}
