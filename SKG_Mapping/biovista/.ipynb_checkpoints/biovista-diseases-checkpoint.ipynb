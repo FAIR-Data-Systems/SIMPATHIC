{
 "cells": [
  {
   "cell_type": "code",
   "execution_count": null,
   "id": "4927c0c0",
   "metadata": {},
   "outputs": [],
   "source": [
    "`unzip ./raw_data/bv-disease-graph.large.zip -d ./raw_data`"
   ]
  },
  {
   "cell_type": "code",
   "execution_count": 1,
   "id": "50d26365",
   "metadata": {},
   "outputs": [
    {
     "data": {
      "text/plain": [
       "\"./maps/biovista-disease.map\""
      ]
     },
     "execution_count": 1,
     "metadata": {},
     "output_type": "execute_result"
    }
   ],
   "source": [
    "require 'json'\n",
    "require 'rest-client'\n",
    "require '../OBO_Lookup/obo.rb'\n",
    "\n",
    "ONTOLOGY = \"ORDO\".freeze\n",
    "CSVFILE = \"./raw_data/bv-disease-graph.large\".freeze\n",
    "COLUMN = 0\n",
    "OUTPUT = \"./maps/biovista-disease.map\".freeze"
   ]
  },
  {
   "cell_type": "code",
   "execution_count": null,
   "id": "bb8d6b76",
   "metadata": {},
   "outputs": [],
   "source": [
    "out = File.open(OUTPUT, \"w\");\n",
    "\n",
    "@seen = {}\n",
    "File.readlines(CSVFILE, chomp: true).each do |line|\n",
    "  row = line.split(\"\\t\")\n",
    "  next unless row[COLUMN + 1] == \"Disease\"\n",
    "  value = row[COLUMN]\n",
    "  value.strip!\n",
    "  next if @seen[value]\n",
    "  warn \"looking for #{value}\"\n",
    "  if value.empty?\n",
    "    warn \"no value found in the column\"\n",
    "    next\n",
    "  end\n",
    "  n = NCBO.new()\n",
    "  uri = n.search_by_term(term: value, ontology: ONTOLOGY, exact: true)\n",
    "  unless uri  # backup plan\n",
    "    synonyms = n.get_synonyms_for_term(term: value, ontology: \"MESH\", exact: true) # returns list\n",
    "    synonyms.each do |syn|\n",
    "      uri = n.search_by_term(term: syn, ontology: ONTOLOGY, exact: true)\n",
    "      break if uri\n",
    "    end\n",
    "  end\n",
    "  unless uri  # give up\n",
    "    out.write \"No URI found for #{value}\\n\"\n",
    "  else\n",
    "    out.write \"#{uri},#{value}\\n\"\n",
    "  end\n",
    "  @seen[value] = 1\n",
    "end\n",
    "out.close\n",
    "puts \"done\""
   ]
  },
  {
   "cell_type": "code",
   "execution_count": 3,
   "id": "5fd2fbef",
   "metadata": {},
   "outputs": [
    {
     "name": "stdout",
     "output_type": "stream",
     "text": [
      "http://www.orpha.net/ORDO/Orphanet_273,MYOTONIC DYSTROPHY TYPE 1\n",
      "http://www.orpha.net/ORDO/Orphanet_98757,SPINOCEREBELLAR ATAXIA TYPE 3\n",
      "http://www.orpha.net/ORDO/Orphanet_79318,PMM2 DEFICIENCY\n",
      "http://www.orpha.net/ORDO/Orphanet_506,LEIGH SYNDROME\n",
      "http://www.orpha.net/ORDO/Orphanet_2102,GTPCH DEFICIENCY\n",
      "http://www.orpha.net/ORDO/Orphanet_22,SSADH DEFICIENCY\n",
      "http://www.orpha.net/ORDO/Orphanet_912,ZELLWEGER SYNDROME\n",
      "http://www.orpha.net/ORDO/Orphanet_3006,PYRIDOXINE-DEPENDENT EPILEPSY\n",
      "http://www.orpha.net/ORDO/Orphanet_25,GLUTARIC ACIDURIA 1\n",
      "http://www.orpha.net/ORDO/Orphanet_590,CONGENITAL MYASTHENIC SYNDROME\n"
     ]
    }
   ],
   "source": [
    "puts `cat #{OUTPUT}`"
   ]
  }
 ],
 "metadata": {
  "kernelspec": {
   "display_name": "Ruby 3.0.0",
   "language": "ruby",
   "name": "ruby"
  },
  "language_info": {
   "file_extension": ".rb",
   "mimetype": "application/x-ruby",
   "name": "ruby",
   "version": "3.0.0"
  }
 },
 "nbformat": 4,
 "nbformat_minor": 5
}
