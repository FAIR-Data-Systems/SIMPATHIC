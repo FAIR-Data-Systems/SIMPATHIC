{
 "cells": [
  {
   "cell_type": "code",
   "execution_count": 1,
   "id": "9c69aca2",
   "metadata": {},
   "outputs": [
    {
     "name": "stderr",
     "output_type": "stream",
     "text": [
      "/home/osboxes/CODE/SIMPATHIC/SKG_Mapping/Lookups/ontologyservers/ncbo.rb:4: warning: already initialized constant PARAMS\n",
      "/home/osboxes/CODE/SIMPATHIC/SKG_Mapping/Lookups/ontologyservers/edam.rb:4: warning: previous definition of PARAMS was here\n"
     ]
    },
    {
     "name": "stdout",
     "output_type": "stream",
     "text": [
      "source_1\tid_1\ttype_1\tname_1\tsource_2\tid_2\ttype_2\tname_2\tscore\turl\n",
      "UMLS:Disease or Syndrome:MSH\tC0268631\tDisease\tSSADH Deficiency\tHP:human_phenotype\tHP:0001263\tHuman Phenotype\tGlobal developmental delay\t0.0501869\thttps://www.biovista.com/db/link/%5B%5B%22Disease%7CSSADH%20Deficiency%22%5D,%20%5B%22Human%20Phenotype%7CGlobal%20developmental%20delay%22%5D%5D?strength-weight-map=%257B%2522MEDLINE_STRENGTH_AB%2522:1.0,%2522HPO%2522:100.0%257D\n"
     ]
    }
   ],
   "source": [
    "require 'json'\n",
    "require 'rest-client'\n",
    "require 'linkeddata'\n",
    "require 'sparql/client'\n",
    "require 'csv'\n",
    "require '../Lookups/metadata_functions.rb'\n",
    "\n",
    "CSVFILE = \"./raw_data/bv-kg-20250225.large\".freeze\n",
    "OUTPUT = \"./maps/2025-biovista-genes.map\".freeze\n",
    "# puts `ls`\n",
    "puts `head -2 ./raw_data/bv-kg-20250225.large`"
   ]
  },
  {
   "cell_type": "code",
   "execution_count": null,
   "id": "278ccf80",
   "metadata": {},
   "outputs": [],
   "source": [
    "ncbi = Hash.new\n",
    "mesh = Hash.new\n",
    "CSV.foreach(CSVFILE, headers: true, col_sep: \"\\t\") do |row|\n",
    "  if row['type_1'] == \"Gene\"\n",
    "    if row['source_1'] =~ /NCBI/ || row['source_1'] =~ /UniProt/\n",
    "      ncbi[row['id_1']] = 1\n",
    "    elsif row['source_1'] =~ /MeSH/\n",
    "      mesh[row['id_1']] = 1\n",
    "    else\n",
    "      abort row['source_1']\n",
    "    end\n",
    "  end\n",
    "  if row['type_2'] == \"Gene\"\n",
    "    if row['source_2'] =~ /NCBI/ || row['source_2'] =~ /UniProt/\n",
    "      ncbi[row['id_2']] = 1\n",
    "    elsif row['source_2'] =~ /MeSH/\n",
    "      mesh[row['id_2']] = 1\n",
    "    else\n",
    "      abort row['source_2']\n",
    "    end\n",
    "  end\n",
    "end\n",
    "puts \"done\"\n"
   ]
  },
  {
   "cell_type": "code",
   "execution_count": null,
   "id": "82d8bf64",
   "metadata": {},
   "outputs": [],
   "source": [
    "def format_ncbi_values_clause(idlist:, batch_size: 20)\n",
    "  # used to make efficient sparql\n",
    "  valueslist = Array.new\n",
    "  puts idlist.size\n",
    "#   slice = 1\n",
    "  base_uri = \"<http://purl.uniprot.org/geneid/%s>\"\n",
    "  idlist.each_slice(batch_size).map do |batch|\n",
    "#     puts slice\n",
    "#     slice = slice + 1\n",
    "    values = batch.map { |id| base_uri % id }.join(' ')\n",
    "    valueslist << values\n",
    "  end\n",
    "  valueslist\n",
    "end"
   ]
  },
  {
   "cell_type": "code",
   "execution_count": null,
   "id": "21e34242",
   "metadata": {},
   "outputs": [],
   "source": [
    "genequery = \"\n",
    "PREFIX xsd: <http://www.w3.org/2001/XMLSchema#>\n",
    "PREFIX uniprotkb: <http://purl.uniprot.org/uniprot/>\n",
    "PREFIX taxon: <http://purl.uniprot.org/taxonomy/>\n",
    "PREFIX rdfs: <http://www.w3.org/2000/01/rdf-schema#>\n",
    "PREFIX rdf: <http://www.w3.org/1999/02/22-rdf-syntax-ns#>\n",
    "PREFIX skos: <http://www.w3.org/2004/02/skos/core#>\n",
    "PREFIX up: <http://purl.uniprot.org/core/>\n",
    "SELECT distinct ?geneid ?protein ?recommended_full ?taxon\n",
    "WHERE\n",
    "{\n",
    "        VALUES ?geneid {|||VALUES|||}\n",
    "        ?protein a up:Protein .\n",
    "  \t\t?protein rdfs:seeAlso ?geneid . # seeAlso http://purl.uniprot.org/geneid/939976\n",
    "  \t\t?protein up:organism ?taxon .\n",
    "  \t\t?protein up:recommendedName ?rname .\n",
    "  \t\t?rname up:fullName ?recommended_full .\n",
    "}\"\n",
    "puts"
   ]
  },
  {
   "cell_type": "code",
   "execution_count": null,
   "id": "5dfc3ca5",
   "metadata": {},
   "outputs": [],
   "source": [
    "out = File.open(OUTPUT, \"w\");\n",
    "out.write \"geneid,protein,recommended_full,taxon\\n\"\n",
    "\n",
    "# puts genes.keys.size\n",
    "\n",
    "sparql = SPARQL::Client.new(\"https://sparql.uniprot.org/sparql/\")\n",
    "\n",
    "batches = format_ncbi_values_clause(idlist: ncbi.keys)\n",
    "batches.each do |batch|\n",
    "  retry_attempts = 0\n",
    "  begin\n",
    "    result = sparql.query(genequery.gsub(\"|||VALUES|||\", batch))\n",
    "  rescue StandardError => e\n",
    "    retry_attempts += 1\n",
    "    if retry_attempts < 10\n",
    "      retry\n",
    "    else\n",
    "      puts e.inspect\n",
    "      abort\n",
    "    end\n",
    "  end\n",
    "  puts \"FOUND: #{result.size}\"\n",
    "  abort \"#{batch}\\n#{result.inspect}\" unless result.size >= 20\n",
    "  result.each do |res|\n",
    "    puts \"#{res['geneid']},#{res['protein']},#{res['recommended_full']},#{res['taxon']}\"\n",
    "    out.write CSV.generate_line([res[\"geneid\"],res[\"protein\"],res[\"recommended_full\"],res[\"taxon\"]])\n",
    "  end\n",
    "end\n",
    "\n",
    "out.close\n",
    "puts \"done ncbi\"\n"
   ]
  },
  {
   "cell_type": "code",
   "execution_count": null,
   "id": "12010798",
   "metadata": {},
   "outputs": [],
   "source": [
    "# For mesh, we will do an OBO lookup on each one\n",
    "\n",
    "OUTFILE = \"./maps/2025-biovista-mesh.map\".freeze\n",
    "out = File.open(OUTFILE, \"w\")\n",
    "\n",
    "mesh.each_key do |m|\n",
    "  uri = \"http://purl.bioontology.org/ontology/MESH/#{m}\"\n",
    "  term = ontology_annotations(uri: uri )\n",
    "  puts \"#{uri},#{term},http://purl.uniprot.org/taxonomy/9606\"\n",
    "  out.write CSV.generate_line([uri,term,\"http://purl.uniprot.org/taxonomy/9606\"])\n",
    "end\n",
    "\n",
    "puts \"done mesh\""
   ]
  },
  {
   "cell_type": "code",
   "execution_count": null,
   "id": "8a5b3e93",
   "metadata": {},
   "outputs": [],
   "source": []
  }
 ],
 "metadata": {
  "kernelspec": {
   "display_name": "Ruby 3.0.0",
   "language": "ruby",
   "name": "ruby"
  },
  "language_info": {
   "file_extension": ".rb",
   "mimetype": "application/x-ruby",
   "name": "ruby",
   "version": "3.0.0"
  }
 },
 "nbformat": 4,
 "nbformat_minor": 5
}
