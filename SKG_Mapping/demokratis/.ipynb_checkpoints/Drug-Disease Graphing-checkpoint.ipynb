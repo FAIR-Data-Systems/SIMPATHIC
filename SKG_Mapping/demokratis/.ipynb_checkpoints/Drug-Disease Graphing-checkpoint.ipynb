{
 "cells": [
  {
   "cell_type": "code",
   "execution_count": 1,
   "id": "7137fdec",
   "metadata": {},
   "outputs": [
    {
     "name": "stdout",
     "output_type": "stream",
     "text": [
      "total 2956\n",
      "-rw-rw-r-- 1 osboxes osboxes     504 Jun 30 10:49 Drug-Disease Graphing.ipynb\n",
      "-rw-rw-r-- 1 osboxes osboxes  138187 Jun 27 15:44 drug-mapping.ipynb\n",
      "-rw-rw-r-- 1 osboxes osboxes 2778831 Jun 19 13:41 gene disease.ipynb\n",
      "drwxrwxr-x 2 osboxes osboxes    4096 Jun 30 10:50 mappings\n",
      "drwxrwxr-x 2 osboxes osboxes    4096 Jun 27 15:13 raw-data\n",
      "-rw-rw-r-- 1 osboxes osboxes   90846 Jun 20 10:59 therapeutic_area.ipynb\n"
     ]
    }
   ],
   "source": [
    "puts `ls -l`"
   ]
  },
  {
   "cell_type": "code",
   "execution_count": 13,
   "id": "601fc500",
   "metadata": {},
   "outputs": [
    {
     "name": "stdout",
     "output_type": "stream",
     "text": [
      "demokratisid,xref,demokratis_label,pubchem_cid,IUPACname\n",
      "C0613621,http://purl.bioontology.org/ontology/MESH/C030536,\"2,2-dichloro-1,1-difluoroethyl difluoromethyl ether\",https://pubchem.ncbi.nlm.nih.gov/compound/152803,\"2,2-dichloro-1,1-difluoroethyl%20difluoromethyl%20ether\"\n",
      "C0042291,http://purl.bioontology.org/ontology/SNOMEDCT/387080000,Valproic Acid,https://pubchem.ncbi.nlm.nih.gov/compound/3121,Valproic%20acid\n",
      "C0059747,http://purl.bioontology.org/ontology/SNOMEDCT/83298009,ethyl acetate,https://pubchem.ncbi.nlm.nih.gov/compound/8857,Ethyl%20acetate\n",
      "C0059747,http://purl.bioontology.org/ontology/MESH/C007650,ethyl acetate,https://pubchem.ncbi.nlm.nih.gov/compound/8857,ethyl%20acetate\n"
     ]
    }
   ],
   "source": [
    "puts `head -5 ./mappings/drug-mappings.csv`"
   ]
  },
  {
   "cell_type": "code",
   "execution_count": 21,
   "id": "7a75ddd1",
   "metadata": {},
   "outputs": [
    {
     "name": "stdout",
     "output_type": "stream",
     "text": [
      "source,snomedct,orpha,prefname\n",
      "C0019247,http://purl.bioontology.org/ontology/SNOMEDCT/32895009,https://fake.orpha.net/not-found,Hereditary disease\n",
      "C0019247,http://purl.bioontology.org/ontology/SNOMEDCT/782964007,https://fake.orpha.net/not-found,Genetic disease\n",
      "C0235946,http://purl.bioontology.org/ontology/SNOMEDCT/278849000,https://fake.orpha.net/not-found,Cerebral atrophy\n",
      "C0007760,http://purl.bioontology.org/ontology/SNOMEDCT/223176004,https://fake.orpha.net/not-found,Cerebellar disorder\n"
     ]
    }
   ],
   "source": [
    "puts `head -5 ./mappings/disease-mappings.csv`"
   ]
  },
  {
   "cell_type": "code",
   "execution_count": 23,
   "id": "b9fd181b",
   "metadata": {},
   "outputs": [
    {
     "ename": "SyntaxError",
     "evalue": "(irb):76: syntax error, unexpected ',', expecting `end'\n...ri, RDFS.label, disease_label), graph_name: context_uri)\n...                              ^\n",
     "output_type": "error",
     "traceback": [
      "\u001b[31mSyntaxError\u001b[0m: (irb):76: syntax error, unexpected ',', expecting `end'\n...ri, RDFS.label, disease_label), graph_name: context_uri)\n...                              ^\n"
     ]
    }
   ],
   "source": [
    "require 'linkeddata'\n",
    "require 'csv'\n",
    "\n",
    "graphing_errors = File.open('./graph/drug-disease-errors.txt', 'w') \n",
    "\n",
    "# Define namespaces\n",
    "SIMPATHIC = RDF::Vocabulary.new('urn:simpathic:')\n",
    "RDFS = RDF::Vocabulary.new('http://www.w3.org/2000/01/rdf-schema#')\n",
    "\n",
    "# Read input files\n",
    "entity_relations = CSV.read('./raw-data/Drug-Diseasetriples.tsv', col_sep: \"\\t\", headers: true)\n",
    "drug_mappings = CSV.read('./mappings/drug-mappings.csv', headers: true)\n",
    "disease_mappings = CSV.read('./mappings/disease-mappings.csv', headers: true)\n",
    "\n",
    "# Create RDF graph\n",
    "graph = RDF::Graph.new\n",
    "\n",
    "failures = {}\n",
    "# Process each entity relation\n",
    "entity_relations.each do |row|\n",
    "  # warn row.inspect\n",
    "  drug_id = row['Drug_id']\n",
    "  disease_id = row['Disease_id']\n",
    "  \n",
    "  # Find corresponding mappings\n",
    "  drug = drug_mappings.find { |d| d['demokratisid'] == drug_id }\n",
    "  disease = disease_mappings.find { |d| d['source'] == disease_id }\n",
    "  \n",
    "  unless drug\n",
    "    next if failures[drug_id]\n",
    "    failures[drug_id] = 1\n",
    "    warn \"drug lookup failed #{drug_id}\"\n",
    "    graphing_errors.write \"drug lookup failed #{drug_id}\\n\"\n",
    "    next\n",
    "  end\n",
    "  unless disease\n",
    "    next if failures[disease_id]\n",
    "    failures[disease_id] = 1\n",
    "    warn \"disease lookup failed #{disease_id}\"\n",
    "    graphing_errors.write \"disease lookup failed #{disease_id}\\n\"\n",
    "    next\n",
    "  end\n",
    "  \n",
    "  # Extract relevant IDs and labels\n",
    "  # demokratisid,xref,demokratis_label,pubchem_cid,IUPACname\n",
    "  # C0613621,http://purl.bioontology.org/ontology/MESH/C030536,\"2,2-dichloro-1,1-difluoroethyl difluoromethyl ether\",https://pubchem.ncbi.nlm.nih.gov/compound/152803,\"2,2-dichloro-1,1-difluoroethyl%20difluoromethyl%20ether\"\n",
    "  pubchem_uri = RDF::URI.new(drug['pubchem_cid'])\n",
    "  pubchem_type = RDF::URI.new(\"http://semanticscience.org/resource/CHEMINF_000302\")\n",
    "  pubchem_label =  RDF::Literal.new(\"PubChem Identifier\")\n",
    "  pubchem_core_type = RDF::URI.new(\"https://w3id.org/biolink/vocab/Drug\")\n",
    "  demokratis_drug_label = RDF::Literal.new(drug['demokratis_label'])\n",
    "  iupac_drug_label = RDF::Literal.new(drug['IUPACname'])\n",
    "\n",
    "#   source,snomedct,orpha,prefname\n",
    "#   C0019247,http://purl.bioontology.org/ontology/SNOMEDCT/32895009,https://fake.orpha.net/not-found,Hereditary disease\n",
    "  snomed_uri = RDF::URI.new(disease['snomedct'])\n",
    "  snomed_type = RDF::URI.new(\"https://bioportal.bioontology.org/ontologies/SNOMEDCT\")\n",
    "  snomed_core_type = RDF::URI.new(\"https://w3id.org/biolink/vocab/Disease\")\n",
    "  snomed_label =  RDF::Literal.new(\"SNOMED Term\")\n",
    "  orphanet = RDF::URI.new(disease['orpha'])\n",
    "  disease_label = RDF::Literal.new(disease['prefname'])\n",
    "  \n",
    "  # Create context URI\n",
    "  context_uri = RDF::URI.new(\"urn:simpathic:context:#{drug_id}_#{disease_id}\")\n",
    "  \n",
    "  # Add quads to graph using RDF::Statement\n",
    "  graph << RDF::Statement.new(pubchem_uri, SIMPATHIC['associated-with'], snomed_uri, graph_name: context_uri)\n",
    "  \n",
    "  graph << RDF::Statement.new(pubchem_uri,  RDFS.label,     demokratis_drug_label, graph_name: context_uri)\n",
    "  graph << RDF::Statement.new(pubchem_uri,  RDFS.label,     iupac_drug_label, graph_name: context_uri)\n",
    "  graph << RDF::Statement.new(pubchem_uri,  RDF.type,       pubchem_type,          graph_name: context_uri)\n",
    "  graph << RDF::Statement.new(pubchem_uri,  RDF.type,       pubchem_core_type,             graph_name: context_uri)\n",
    "  graph << RDF::Statement.new(pubchem_type, RDFS.label,     RDF::Literal.new(\"PubChem\"), graph_name: context_uri)\n",
    "  graph << RDF::Statement.new(pubchem_core_type, RDFS.label,     RDF::Literal.new(\"Drug\"), graph_name: context_uri)\n",
    "  graph << RDF::Statement.new(pubchem_uri,  SIMPATHIC['original-id'], RDF::Literal.new(\"#{drug_id}\"), graph_name: context_uri)\n",
    " \n",
    "  graph << RDF::Statement.new(snomed_uri, RDFS.label, disease_label, graph_name: context_uri)\n",
    "  graph << RDF::Statement.new(snomed_uri, RDF.type, snomed_type, graph_name: context_uri)\n",
    "  graph << RDF::Statement.new(snomed_uri, RDF.type, snomed_core_type, graph_name: context_uri)\n",
    "  graph << RDF::Statement.new(snomed_type, RDFS.label, snomed_label, graph_name: context_uri)\n",
    "  graph << RDF::Statement.new(snomed_uri, SIMPATHIC['orphanet'], orphanet, graph_name: context_uri)\n",
    "  graph << RDF::Statement.new(snomed_uri, SIMPATHIC['original-id'], RDF::Literal.new(\"#{disease_id}\"), graph_name: context_uri)\n",
    "  \n",
    "  graph << RDF::Statement.new(context_uri, SIMPATHIC['skg-source'], RDF::Literal.new(\"DEMOKRATIS\"), graph_name: context_uri)\n",
    "  graph << RDF::Statement.new(context_uri, SIMPATHIC['skg-evidence'], RDF::Literal.new(\"TBD\"), graph_name: context_uri)\n",
    "end\n",
    "\n",
    "# Write RDF to file in N-Quads format\n",
    "File.open('./graph/drug-disease.nq', 'w') do |f|\n",
    "  RDF::Writer.for(:nquads).new(f) do |writer|\n",
    "    writer << graph\n",
    "  end\n",
    "end\n",
    "graphing_errors.close\n",
    "\n",
    "puts \"RDF quads written\""
   ]
  },
  {
   "cell_type": "code",
   "execution_count": 18,
   "id": "c53ed220",
   "metadata": {},
   "outputs": [],
   "source": [
    "graphing_errors.close"
   ]
  }
 ],
 "metadata": {
  "kernelspec": {
   "display_name": "Ruby 3.0.0",
   "language": "ruby",
   "name": "ruby"
  },
  "language_info": {
   "file_extension": ".rb",
   "mimetype": "application/x-ruby",
   "name": "ruby",
   "version": "3.0.0"
  }
 },
 "nbformat": 4,
 "nbformat_minor": 5
}
