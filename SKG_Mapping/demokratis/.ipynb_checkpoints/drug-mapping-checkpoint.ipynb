{
 "cells": [
  {
   "cell_type": "code",
   "execution_count": 26,
   "id": "51119b94",
   "metadata": {},
   "outputs": [
    {
     "name": "stdout",
     "output_type": "stream",
     "text": [
      "﻿Drug\tDrug_id\tDisease\tDisease_id\n",
      "2,2-dichloro-1,1-difluoroethyl difluoromethyl ether\tC0613621\tHereditary Diseases\tC0019247\n",
      "Valproic Acid\tC0042291\tNeurodegenerative Disorders\tC0524851\n"
     ]
    }
   ],
   "source": [
    "puts `head -3 \"./raw-data/Drug-Diseasetriples.tsv\"`"
   ]
  },
  {
   "cell_type": "markdown",
   "id": "914bf137",
   "metadata": {},
   "source": [
    "# Drug_id is a MeSH Supplementary Concept Record (SCR) identifier from the Medical Subject Headings (MeSH) vocabulary,\n",
    "\n"
   ]
  },
  {
   "cell_type": "markdown",
   "id": "dee7f4c0",
   "metadata": {},
   "source": [
    "# Map MeSH to PubChem CUI and formal name"
   ]
  },
  {
   "cell_type": "code",
   "execution_count": 36,
   "id": "89f653da",
   "metadata": {
    "scrolled": false
   },
   "outputs": [
    {
     "name": "stderr",
     "output_type": "stream",
     "text": [
      "https://data.bioontology.org/search?q=C0613621&ontologies=MESH&require_exact_match=true&apikey=74027bd8-6be0-4329-be22-aa3717f97243\n"
     ]
    },
    {
     "name": "stdout",
     "output_type": "stream",
     "text": [
      "{:cui=>\"C0613621\", :mesh=>\"http://purl.bioontology.org/ontology/MESH/C030536\", :compound_name=>\"2,2-dichloro-1,1-difluoroethyl difluoromethyl ether\", :linksurl=>\"https://data.bioontology.org/ontologies/MESH/classes/http%3A%2F%2Fpurl.bioontology.org%2Fontology%2FMESH%2FC030536/mappings\"}\n"
     ]
    }
   ],
   "source": [
    "require 'rest-client'\n",
    "\n",
    "def map_umls_to_cid(cui)\n",
    "  api_key = ENV[\"APIKEY\"] # Replace with BioPortal API key\n",
    "  begin\n",
    "    # cui = \"C0019247\"\n",
    "    url = \"https://data.bioontology.org/search?q=#{cui}&ontologies=MESH&require_exact_match=true&apikey=#{api_key}\"\n",
    "    warn url\n",
    "    response = RestClient.get(url)\n",
    "  rescue\n",
    "    warn \"lookup failed #{response.inspect}\"\n",
    "    return false\n",
    "  end\n",
    "  mappings = []\n",
    "  data = JSON.parse(response)\n",
    "\n",
    "#  if hit = data.dig('collection', 0)\n",
    "  if hit = data.dig('collection')\n",
    "    hit.each do |h|\n",
    "      compound_name = h&.dig('prefLabel')\n",
    "      mesh = h&.dig('@id')\n",
    "      linksurl = h&.dig('links', 'mappings')\n",
    "      mappings << { cui: cui, mesh: mesh, compound_name: compound_name, linksurl: linksurl}\n",
    "    end\n",
    "    return mappings\n",
    "  else\n",
    "    warn \"No data found for #{cui}\\n\"\n",
    "    return false\n",
    "  end\n",
    "\n",
    "rescue StandardError => e\n",
    "  warn \"No data found for #{cui} Error: #{e.inspect}\\n\"\n",
    "  return false\n",
    "end\n",
    "\n",
    "# Example\n",
    "puts map_umls_to_cid('C0613621')\n",
    "  "
   ]
  },
  {
   "cell_type": "code",
   "execution_count": 40,
   "id": "1509dee2",
   "metadata": {},
   "outputs": [
    {
     "name": "stderr",
     "output_type": "stream",
     "text": [
      "https://data.bioontology.org/search?q=C0613621&ontologies=MESH&require_exact_match=true&apikey=74027bd8-6be0-4329-be22-aa3717f97243\n",
      "{:name=>\"2,2-dichloro-1,1-difluoroethyl difluoromethyl ether\", :error=>\"Error: undefined method `encode' for URI:Module\"}\n"
     ]
    },
    {
     "data": {
      "text/plain": [
       "[{:cui=>\"C0613621\", :mesh=>\"http://purl.bioontology.org/ontology/MESH/C030536\", :compound_name=>\"2,2-dichloro-1,1-difluoroethyl difluoromethyl ether\", :linksurl=>\"https://data.bioontology.org/ontologies/MESH/classes/http%3A%2F%2Fpurl.bioontology.org%2Fontology%2FMESH%2FC030536/mappings\"}]"
      ]
     },
     "execution_count": 40,
     "metadata": {},
     "output_type": "execute_result"
    }
   ],
   "source": [
    "require 'rest-client'\n",
    "def map_name_to_cid(name)\n",
    "  # PubChem REST is stupid, and consumes names that are only partially URI encoded!  (spaces substituted) and rejects fully URI encoded strings!\n",
    "  # so I a forced to roll my own URI escaper... so stupid!\n",
    "  name = name.gsub(/\\s/, \"%20\")\n",
    "  url = \"https://pubchem.ncbi.nlm.nih.gov/rest/pug/compound/name/#{name}/cids/JSON\"\n",
    "  warn url\n",
    "  begin\n",
    "    response = RestClient.get(url)\n",
    "  rescue\n",
    "    warn \"lookup failed #{response.inspect}\"\n",
    "    return false\n",
    "  end\n",
    "  data = JSON.parse(response)\n",
    "  warn JSON.pretty_generate data\n",
    "  abort\n",
    "\n",
    "  if response.status == 200\n",
    "    cids = JSON.parse(response.body).dig('IdentifierList', 'CID')\n",
    "    { name: name, cid: cids&.first || 'No CID found' }\n",
    "  else\n",
    "    { name: name, error: \"No CID found (Status: #{response.status})\" }\n",
    "  end\n",
    "rescue Faraday::TimeoutError\n",
    "  { name: name, error: 'Timeout error' }\n",
    "rescue StandardError => e\n",
    "  { name: name, error: \"Error: #{e.message}\" }\n",
    "end\n",
    "\n",
    "# Example\n",
    "mappings = map_umls_to_cid('C0613621')\n",
    "mappings.each do |map|\n",
    "  \n",
    "  warn map_name_to_cid(map[:compound_name])\n",
    "end\n",
    "\n",
    "\n"
   ]
  },
  {
   "cell_type": "code",
   "execution_count": 28,
   "id": "e72b5103",
   "metadata": {},
   "outputs": [
    {
     "name": "stdout",
     "output_type": "stream",
     "text": [
      "{:name=>\"4-aminobutanoic acid\"}\n"
     ]
    }
   ],
   "source": [
    "def map_cid_to_iupacname(cid)\n",
    "  name = \"\"\n",
    "  # https://pubchem.ncbi.nlm.nih.gov/rest/pug/compound/cid/119/JSON\n",
    "  conn = Faraday.new(url: 'https://pubchem.ncbi.nlm.nih.gov')\n",
    "  response = conn.get('/rest/pug/compound/cid/' + cid.to_s + '/JSON', { 'Content-Type' => 'application/json' })\n",
    "\n",
    "  if response.status == 200\n",
    "#         {\n",
    "#           \"urn\": {\n",
    "#             \"label\": \"IUPAC Name\",\n",
    "#             \"name\": \"Allowed\",\n",
    "#             \"datatype\": 1,\n",
    "#             \"version\": \"2.7.0\",\n",
    "#             \"software\": \"Lexichem TK\",\n",
    "#             \"source\": \"OpenEye Scientific Software\",\n",
    "#             \"release\": \"2025.04.14\"\n",
    "#           },\n",
    "#           \"value\": {\n",
    "#             \"sval\": \"4-aminobutanoic acid\"\n",
    "#           }\n",
    "#         },\n",
    "    json = JSON.parse(response.body)\n",
    "    found = false\n",
    "    json[\"PC_Compounds\"][0][\"props\"].each do |prop|\n",
    "      next unless prop[\"urn\"][\"label\"] == \"IUPAC Name\"\n",
    "      if prop[\"urn\"][\"name\"] == \"Preferred\"\n",
    "        name = prop[\"value\"][\"sval\"]\n",
    "        found = true\n",
    "      end\n",
    "    end\n",
    "    warn \"CID #{cid} didnt map at all\" unless found\n",
    "    return false unless found\n",
    "  end\n",
    "  return {name: name}\n",
    "\n",
    "rescue StandardError => e\n",
    "  warn \"Error: #{e.inspect}\"\n",
    "  return false\n",
    "end\n",
    "\n",
    "# Example\n",
    "puts map_cid_to_iupacname('119')"
   ]
  },
  {
   "cell_type": "markdown",
   "id": "3d2d33f5",
   "metadata": {},
   "source": [
    "# Iteration over all mesh terms"
   ]
  },
  {
   "cell_type": "code",
   "execution_count": 32,
   "id": "e4bfd527",
   "metadata": {},
   "outputs": [
    {
     "name": "stderr",
     "output_type": "stream",
     "text": [
      "(irb):4: warning: already initialized constant Object::CSVFILE\n",
      "(irb):4: warning: previous definition of CSVFILE was here\n",
      "(irb):5: warning: already initialized constant Object::OUTPUT\n",
      "(irb):5: warning: previous definition of OUTPUT was here\n",
      "https://data.bioontology.org/search?q=C0613621&ontologies=RXNORM,SNOMEDCT,DRUGBANK&require_exact_match=true&apikey=74027bd8-6be0-4329-be22-aa3717f97243\n"
     ]
    }
   ],
   "source": [
    "require 'json'\n",
    "require 'faraday'\n",
    "require 'csv'\n",
    "\n",
    "CSVFILE = \"./raw-data/Drug-Diseasetriples.tsv\".freeze\n",
    "OUTPUT = \"./mappings/drug-mappings.tsv\".freeze\n",
    "\n",
    "out = File.open(OUTPUT, \"w\")\n",
    "out.write CSV.generate_line([\"demokratis_meshid\",\"demokratis_label\",\"CID\",\"IUPACname\"])\n",
    "\n",
    "\n",
    "CSV.foreach(CSVFILE, headers: true, col_sep: \"\\t\") do |row|\n",
    "\n",
    "  # Drug\tDrug_id\t    Disease\t   Disease_id\n",
    "  name = row[\"Drug\"]\n",
    "  mesh = row[\"Drug_id\"]\n",
    "  # first lookup cui\n",
    "  hash = map_umls_to_cid(mesh)  # might return false\n",
    "#   puts hash\n",
    "  if hash\n",
    "    cid = hash[:cid]\n",
    "    response = map_cid_to_iupacname(cid)\n",
    "    if response\n",
    "      hash.merge!(map_cid_to_iupacname(cid))\n",
    "    else\n",
    "      next\n",
    "    end\n",
    "  else\n",
    "    next\n",
    "  end\n",
    "  cid_guid = \"https://pubchem.ncbi.nlm.nih.gov/compound/#{cid}\"\n",
    "#   puts CSV.generate_line([mesh,biovistaname,cid,hash[:name]])\n",
    "  out.write CSV.generate_line([\"http://purl.bioontology.org/ontology/MESH/#{mesh}\",name,cid_guid,hash[:name]])\n",
    "end\n",
    "\n",
    "puts \"DONE!\"\n",
    "  \n",
    "  \n",
    "  "
   ]
  }
 ],
 "metadata": {
  "kernelspec": {
   "display_name": "Ruby 3.0.0",
   "language": "ruby",
   "name": "ruby"
  },
  "language_info": {
   "file_extension": ".rb",
   "mimetype": "application/x-ruby",
   "name": "ruby",
   "version": "3.0.0"
  }
 },
 "nbformat": 4,
 "nbformat_minor": 5
}
